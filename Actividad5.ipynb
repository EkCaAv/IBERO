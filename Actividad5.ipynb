{
  "metadata": {
    "kernelspec": {
      "language": "python",
      "display_name": "Python 3",
      "name": "python3"
    },
    "language_info": {
      "name": "python",
      "version": "3.7.9",
      "mimetype": "text/x-python",
      "codemirror_mode": {
        "name": "ipython",
        "version": 3
      },
      "pygments_lexer": "ipython3",
      "nbconvert_exporter": "python",
      "file_extension": ".py"
    },
    "colab": {
      "provenance": [],
      "include_colab_link": true
    }
  },
  "nbformat_minor": 0,
  "nbformat": 4,
  "cells": [
    {
      "cell_type": "markdown",
      "metadata": {
        "id": "view-in-github",
        "colab_type": "text"
      },
      "source": [
        "<a href=\"https://colab.research.google.com/github/EkCaAv/IBERO/blob/EkCaAv-IA-5/Actividad5.ipynb\" target=\"_parent\"><img src=\"https://colab.research.google.com/assets/colab-badge.svg\" alt=\"Open In Colab\"/></a>"
      ]
    },
    {
      "cell_type": "code",
      "source": [
        "import pandas as pd\n",
        "import numpy as np\n",
        "import seaborn as sns\n",
        "sns.set()\n",
        "import matplotlib.pyplot as plt\n",
        "%matplotlib inline"
      ],
      "metadata": {
        "trusted": true,
        "id": "8a8LS6IIdzag"
      },
      "execution_count": 2,
      "outputs": []
    },
    {
      "cell_type": "code",
      "source": [
        "from google.colab import drive\n",
        "#import os\n",
        "drive.mount('/content/gdrive')"
      ],
      "metadata": {
        "colab": {
          "base_uri": "https://localhost:8080/"
        },
        "id": "XAp5-xlsd5o_",
        "outputId": "52dab78a-febb-4681-d14d-b5a0aa1b4cc9"
      },
      "execution_count": 3,
      "outputs": [
        {
          "output_type": "stream",
          "name": "stdout",
          "text": [
            "Drive already mounted at /content/gdrive; to attempt to forcibly remount, call drive.mount(\"/content/gdrive\", force_remount=True).\n"
          ]
        }
      ]
    },
    {
      "cell_type": "code",
      "source": [
        "data = pd.read_csv('/content/gdrive/MyDrive/PY-Diplomado/train_distance_matrix.csv',sep=',')\n"
      ],
      "metadata": {
        "trusted": true,
        "id": "Q6Lv1aDKdzan"
      },
      "execution_count": 4,
      "outputs": []
    },
    {
      "cell_type": "code",
      "source": [
        "data.columns"
      ],
      "metadata": {
        "trusted": true,
        "colab": {
          "base_uri": "https://localhost:8080/"
        },
        "id": "U7NU2CLtdzap",
        "outputId": "ee30f9f4-bf45-4f78-d228-32f95fdfb370"
      },
      "execution_count": 5,
      "outputs": [
        {
          "output_type": "execute_result",
          "data": {
            "text/plain": [
              "Index(['id', 'vendor_id', 'pickup_datetime', 'dropoff_datetime',\n",
              "       'passenger_count', 'pickup_longitude', 'pickup_latitude',\n",
              "       'dropoff_longitude', 'dropoff_latitude', 'store_and_fwd_flag',\n",
              "       'gc_distance', 'trip_duration', 'google_distance', 'google_duration'],\n",
              "      dtype='object')"
            ]
          },
          "metadata": {},
          "execution_count": 5
        }
      ]
    },
    {
      "cell_type": "code",
      "source": [
        "data.dtypes"
      ],
      "metadata": {
        "trusted": true,
        "colab": {
          "base_uri": "https://localhost:8080/"
        },
        "id": "bSTMT2Lqdzaq",
        "outputId": "00f725d2-06d9-4467-f721-a0a5edab4e62"
      },
      "execution_count": 6,
      "outputs": [
        {
          "output_type": "execute_result",
          "data": {
            "text/plain": [
              "id                     object\n",
              "vendor_id               int64\n",
              "pickup_datetime        object\n",
              "dropoff_datetime       object\n",
              "passenger_count         int64\n",
              "pickup_longitude      float64\n",
              "pickup_latitude       float64\n",
              "dropoff_longitude     float64\n",
              "dropoff_latitude      float64\n",
              "store_and_fwd_flag     object\n",
              "gc_distance           float64\n",
              "trip_duration           int64\n",
              "google_distance       float64\n",
              "google_duration       float64\n",
              "dtype: object"
            ]
          },
          "metadata": {},
          "execution_count": 6
        }
      ]
    },
    {
      "cell_type": "code",
      "source": [
        "import datetime as dt\n",
        "import warnings\n",
        "warnings.simplefilter('ignore')"
      ],
      "metadata": {
        "trusted": true,
        "id": "QDZbm4cHdzar"
      },
      "execution_count": 7,
      "outputs": []
    },
    {
      "cell_type": "code",
      "source": [
        "data.sample(2)"
      ],
      "metadata": {
        "trusted": true,
        "colab": {
          "base_uri": "https://localhost:8080/",
          "height": 156
        },
        "id": "qNLar43tdzas",
        "outputId": "c17abe9a-cab4-4754-c8c8-0a7ec4cefd78"
      },
      "execution_count": 8,
      "outputs": [
        {
          "output_type": "execute_result",
          "data": {
            "text/plain": [
              "              id  vendor_id pickup_datetime dropoff_datetime  passenger_count  \\\n",
              "35226  id3509858          1   1/8/2016 8:16    1/8/2016 8:30                1   \n",
              "4184   id2183215          1  1/1/2016 19:02   1/1/2016 19:08                3   \n",
              "\n",
              "       pickup_longitude  pickup_latitude  dropoff_longitude  dropoff_latitude  \\\n",
              "35226        -73.964821        40.791607         -73.982628         40.761585   \n",
              "4184         -73.994347        40.761089         -73.984978         40.779198   \n",
              "\n",
              "      store_and_fwd_flag  gc_distance  trip_duration  google_distance  \\\n",
              "35226                  N     2.274571            841           5152.0   \n",
              "4184                   N     1.344164            354           2416.0   \n",
              "\n",
              "       google_duration  \n",
              "35226           1211.0  \n",
              "4184             478.0  "
            ],
            "text/html": [
              "\n",
              "  <div id=\"df-bf47b4db-3aa7-4a2b-b1bb-d45d6a36b2bd\">\n",
              "    <div class=\"colab-df-container\">\n",
              "      <div>\n",
              "<style scoped>\n",
              "    .dataframe tbody tr th:only-of-type {\n",
              "        vertical-align: middle;\n",
              "    }\n",
              "\n",
              "    .dataframe tbody tr th {\n",
              "        vertical-align: top;\n",
              "    }\n",
              "\n",
              "    .dataframe thead th {\n",
              "        text-align: right;\n",
              "    }\n",
              "</style>\n",
              "<table border=\"1\" class=\"dataframe\">\n",
              "  <thead>\n",
              "    <tr style=\"text-align: right;\">\n",
              "      <th></th>\n",
              "      <th>id</th>\n",
              "      <th>vendor_id</th>\n",
              "      <th>pickup_datetime</th>\n",
              "      <th>dropoff_datetime</th>\n",
              "      <th>passenger_count</th>\n",
              "      <th>pickup_longitude</th>\n",
              "      <th>pickup_latitude</th>\n",
              "      <th>dropoff_longitude</th>\n",
              "      <th>dropoff_latitude</th>\n",
              "      <th>store_and_fwd_flag</th>\n",
              "      <th>gc_distance</th>\n",
              "      <th>trip_duration</th>\n",
              "      <th>google_distance</th>\n",
              "      <th>google_duration</th>\n",
              "    </tr>\n",
              "  </thead>\n",
              "  <tbody>\n",
              "    <tr>\n",
              "      <th>35226</th>\n",
              "      <td>id3509858</td>\n",
              "      <td>1</td>\n",
              "      <td>1/8/2016 8:16</td>\n",
              "      <td>1/8/2016 8:30</td>\n",
              "      <td>1</td>\n",
              "      <td>-73.964821</td>\n",
              "      <td>40.791607</td>\n",
              "      <td>-73.982628</td>\n",
              "      <td>40.761585</td>\n",
              "      <td>N</td>\n",
              "      <td>2.274571</td>\n",
              "      <td>841</td>\n",
              "      <td>5152.0</td>\n",
              "      <td>1211.0</td>\n",
              "    </tr>\n",
              "    <tr>\n",
              "      <th>4184</th>\n",
              "      <td>id2183215</td>\n",
              "      <td>1</td>\n",
              "      <td>1/1/2016 19:02</td>\n",
              "      <td>1/1/2016 19:08</td>\n",
              "      <td>3</td>\n",
              "      <td>-73.994347</td>\n",
              "      <td>40.761089</td>\n",
              "      <td>-73.984978</td>\n",
              "      <td>40.779198</td>\n",
              "      <td>N</td>\n",
              "      <td>1.344164</td>\n",
              "      <td>354</td>\n",
              "      <td>2416.0</td>\n",
              "      <td>478.0</td>\n",
              "    </tr>\n",
              "  </tbody>\n",
              "</table>\n",
              "</div>\n",
              "      <button class=\"colab-df-convert\" onclick=\"convertToInteractive('df-bf47b4db-3aa7-4a2b-b1bb-d45d6a36b2bd')\"\n",
              "              title=\"Convert this dataframe to an interactive table.\"\n",
              "              style=\"display:none;\">\n",
              "        \n",
              "  <svg xmlns=\"http://www.w3.org/2000/svg\" height=\"24px\"viewBox=\"0 0 24 24\"\n",
              "       width=\"24px\">\n",
              "    <path d=\"M0 0h24v24H0V0z\" fill=\"none\"/>\n",
              "    <path d=\"M18.56 5.44l.94 2.06.94-2.06 2.06-.94-2.06-.94-.94-2.06-.94 2.06-2.06.94zm-11 1L8.5 8.5l.94-2.06 2.06-.94-2.06-.94L8.5 2.5l-.94 2.06-2.06.94zm10 10l.94 2.06.94-2.06 2.06-.94-2.06-.94-.94-2.06-.94 2.06-2.06.94z\"/><path d=\"M17.41 7.96l-1.37-1.37c-.4-.4-.92-.59-1.43-.59-.52 0-1.04.2-1.43.59L10.3 9.45l-7.72 7.72c-.78.78-.78 2.05 0 2.83L4 21.41c.39.39.9.59 1.41.59.51 0 1.02-.2 1.41-.59l7.78-7.78 2.81-2.81c.8-.78.8-2.07 0-2.86zM5.41 20L4 18.59l7.72-7.72 1.47 1.35L5.41 20z\"/>\n",
              "  </svg>\n",
              "      </button>\n",
              "      \n",
              "  <style>\n",
              "    .colab-df-container {\n",
              "      display:flex;\n",
              "      flex-wrap:wrap;\n",
              "      gap: 12px;\n",
              "    }\n",
              "\n",
              "    .colab-df-convert {\n",
              "      background-color: #E8F0FE;\n",
              "      border: none;\n",
              "      border-radius: 50%;\n",
              "      cursor: pointer;\n",
              "      display: none;\n",
              "      fill: #1967D2;\n",
              "      height: 32px;\n",
              "      padding: 0 0 0 0;\n",
              "      width: 32px;\n",
              "    }\n",
              "\n",
              "    .colab-df-convert:hover {\n",
              "      background-color: #E2EBFA;\n",
              "      box-shadow: 0px 1px 2px rgba(60, 64, 67, 0.3), 0px 1px 3px 1px rgba(60, 64, 67, 0.15);\n",
              "      fill: #174EA6;\n",
              "    }\n",
              "\n",
              "    [theme=dark] .colab-df-convert {\n",
              "      background-color: #3B4455;\n",
              "      fill: #D2E3FC;\n",
              "    }\n",
              "\n",
              "    [theme=dark] .colab-df-convert:hover {\n",
              "      background-color: #434B5C;\n",
              "      box-shadow: 0px 1px 3px 1px rgba(0, 0, 0, 0.15);\n",
              "      filter: drop-shadow(0px 1px 2px rgba(0, 0, 0, 0.3));\n",
              "      fill: #FFFFFF;\n",
              "    }\n",
              "  </style>\n",
              "\n",
              "      <script>\n",
              "        const buttonEl =\n",
              "          document.querySelector('#df-bf47b4db-3aa7-4a2b-b1bb-d45d6a36b2bd button.colab-df-convert');\n",
              "        buttonEl.style.display =\n",
              "          google.colab.kernel.accessAllowed ? 'block' : 'none';\n",
              "\n",
              "        async function convertToInteractive(key) {\n",
              "          const element = document.querySelector('#df-bf47b4db-3aa7-4a2b-b1bb-d45d6a36b2bd');\n",
              "          const dataTable =\n",
              "            await google.colab.kernel.invokeFunction('convertToInteractive',\n",
              "                                                     [key], {});\n",
              "          if (!dataTable) return;\n",
              "\n",
              "          const docLinkHtml = 'Like what you see? Visit the ' +\n",
              "            '<a target=\"_blank\" href=https://colab.research.google.com/notebooks/data_table.ipynb>data table notebook</a>'\n",
              "            + ' to learn more about interactive tables.';\n",
              "          element.innerHTML = '';\n",
              "          dataTable['output_type'] = 'display_data';\n",
              "          await google.colab.output.renderOutput(dataTable, element);\n",
              "          const docLink = document.createElement('div');\n",
              "          docLink.innerHTML = docLinkHtml;\n",
              "          element.appendChild(docLink);\n",
              "        }\n",
              "      </script>\n",
              "    </div>\n",
              "  </div>\n",
              "  "
            ]
          },
          "metadata": {},
          "execution_count": 8
        }
      ]
    },
    {
      "cell_type": "markdown",
      "source": [
        "# Duración del viaje"
      ],
      "metadata": {
        "id": "d-TKirWudzat"
      }
    },
    {
      "cell_type": "markdown",
      "source": [],
      "metadata": {
        "id": "Zul8XwfwnC5x"
      }
    },
    {
      "cell_type": "code",
      "source": [
        "data.isnull().sum()"
      ],
      "metadata": {
        "trusted": true,
        "colab": {
          "base_uri": "https://localhost:8080/"
        },
        "id": "ks2OUSdDdzaw",
        "outputId": "aac79930-7429-4ce1-c159-a590b4b0a709"
      },
      "execution_count": 9,
      "outputs": [
        {
          "output_type": "execute_result",
          "data": {
            "text/plain": [
              "id                      0\n",
              "vendor_id               0\n",
              "pickup_datetime         0\n",
              "dropoff_datetime        0\n",
              "passenger_count         0\n",
              "pickup_longitude        0\n",
              "pickup_latitude         0\n",
              "dropoff_longitude       0\n",
              "dropoff_latitude        0\n",
              "store_and_fwd_flag      0\n",
              "gc_distance             0\n",
              "trip_duration           0\n",
              "google_distance       559\n",
              "google_duration       559\n",
              "dtype: int64"
            ]
          },
          "metadata": {},
          "execution_count": 9
        }
      ]
    },
    {
      "cell_type": "code",
      "source": [
        "data.nunique()"
      ],
      "metadata": {
        "trusted": true,
        "colab": {
          "base_uri": "https://localhost:8080/"
        },
        "id": "5xjxBljTdzax",
        "outputId": "c1bb2b10-a835-470c-86ca-bf02366b8986"
      },
      "execution_count": 10,
      "outputs": [
        {
          "output_type": "execute_result",
          "data": {
            "text/plain": [
              "id                    39396\n",
              "vendor_id                 2\n",
              "pickup_datetime        9934\n",
              "dropoff_datetime       9949\n",
              "passenger_count           8\n",
              "pickup_longitude      10386\n",
              "pickup_latitude       18345\n",
              "dropoff_longitude     11765\n",
              "dropoff_latitude      20248\n",
              "store_and_fwd_flag        2\n",
              "gc_distance           39228\n",
              "trip_duration          2941\n",
              "google_distance       11985\n",
              "google_duration        2703\n",
              "dtype: int64"
            ]
          },
          "metadata": {},
          "execution_count": 10
        }
      ]
    },
    {
      "cell_type": "code",
      "source": [
        "data.describe()"
      ],
      "metadata": {
        "trusted": true,
        "colab": {
          "base_uri": "https://localhost:8080/",
          "height": 300
        },
        "id": "RMZdWPuSdzay",
        "outputId": "87e34ebc-96dc-4c97-eaf7-5db51aa03604"
      },
      "execution_count": 11,
      "outputs": [
        {
          "output_type": "execute_result",
          "data": {
            "text/plain": [
              "          vendor_id  passenger_count  pickup_longitude  pickup_latitude  \\\n",
              "count  39396.000000     39396.000000      39396.000000     39396.000000   \n",
              "mean       1.540512         1.691669        -73.971934        40.750858   \n",
              "std        0.498362         1.332440          0.041576         0.040643   \n",
              "min        1.000000         0.000000        -74.345078        35.081532   \n",
              "25%        1.000000         1.000000        -73.991318        40.737885   \n",
              "50%        2.000000         1.000000        -73.981133        40.754929   \n",
              "75%        2.000000         2.000000        -73.966316        40.768787   \n",
              "max        2.000000         8.000000        -71.799896        41.023983   \n",
              "\n",
              "       dropoff_longitude  dropoff_latitude   gc_distance  trip_duration  \\\n",
              "count       39396.000000      39396.000000  39396.000000   3.939600e+04   \n",
              "mean          -73.973048         40.752142      2.166888   9.745813e+02   \n",
              "std             0.045388          0.032743      3.769393   1.524926e+04   \n",
              "min           -79.352837         40.436329      0.000000   2.000000e+00   \n",
              "25%           -73.990822         40.736804      0.753846   3.590000e+02   \n",
              "50%           -73.979263         40.755201      1.281959   5.890000e+02   \n",
              "75%           -73.962667         40.770051      2.377999   9.490000e+02   \n",
              "max           -73.324074         41.334740    553.930793   2.227612e+06   \n",
              "\n",
              "       google_distance  google_duration  \n",
              "count     38837.000000     38837.000000  \n",
              "mean       4937.839097       821.085614  \n",
              "std        6184.438363       509.541421  \n",
              "min           0.000000         0.000000  \n",
              "25%        1639.000000       453.000000  \n",
              "50%        2733.000000       702.000000  \n",
              "75%        5174.000000      1073.000000  \n",
              "max       91060.000000      4164.000000  "
            ],
            "text/html": [
              "\n",
              "  <div id=\"df-8ff2dcdc-7cac-45c6-b22b-2ce5900eaa7c\">\n",
              "    <div class=\"colab-df-container\">\n",
              "      <div>\n",
              "<style scoped>\n",
              "    .dataframe tbody tr th:only-of-type {\n",
              "        vertical-align: middle;\n",
              "    }\n",
              "\n",
              "    .dataframe tbody tr th {\n",
              "        vertical-align: top;\n",
              "    }\n",
              "\n",
              "    .dataframe thead th {\n",
              "        text-align: right;\n",
              "    }\n",
              "</style>\n",
              "<table border=\"1\" class=\"dataframe\">\n",
              "  <thead>\n",
              "    <tr style=\"text-align: right;\">\n",
              "      <th></th>\n",
              "      <th>vendor_id</th>\n",
              "      <th>passenger_count</th>\n",
              "      <th>pickup_longitude</th>\n",
              "      <th>pickup_latitude</th>\n",
              "      <th>dropoff_longitude</th>\n",
              "      <th>dropoff_latitude</th>\n",
              "      <th>gc_distance</th>\n",
              "      <th>trip_duration</th>\n",
              "      <th>google_distance</th>\n",
              "      <th>google_duration</th>\n",
              "    </tr>\n",
              "  </thead>\n",
              "  <tbody>\n",
              "    <tr>\n",
              "      <th>count</th>\n",
              "      <td>39396.000000</td>\n",
              "      <td>39396.000000</td>\n",
              "      <td>39396.000000</td>\n",
              "      <td>39396.000000</td>\n",
              "      <td>39396.000000</td>\n",
              "      <td>39396.000000</td>\n",
              "      <td>39396.000000</td>\n",
              "      <td>3.939600e+04</td>\n",
              "      <td>38837.000000</td>\n",
              "      <td>38837.000000</td>\n",
              "    </tr>\n",
              "    <tr>\n",
              "      <th>mean</th>\n",
              "      <td>1.540512</td>\n",
              "      <td>1.691669</td>\n",
              "      <td>-73.971934</td>\n",
              "      <td>40.750858</td>\n",
              "      <td>-73.973048</td>\n",
              "      <td>40.752142</td>\n",
              "      <td>2.166888</td>\n",
              "      <td>9.745813e+02</td>\n",
              "      <td>4937.839097</td>\n",
              "      <td>821.085614</td>\n",
              "    </tr>\n",
              "    <tr>\n",
              "      <th>std</th>\n",
              "      <td>0.498362</td>\n",
              "      <td>1.332440</td>\n",
              "      <td>0.041576</td>\n",
              "      <td>0.040643</td>\n",
              "      <td>0.045388</td>\n",
              "      <td>0.032743</td>\n",
              "      <td>3.769393</td>\n",
              "      <td>1.524926e+04</td>\n",
              "      <td>6184.438363</td>\n",
              "      <td>509.541421</td>\n",
              "    </tr>\n",
              "    <tr>\n",
              "      <th>min</th>\n",
              "      <td>1.000000</td>\n",
              "      <td>0.000000</td>\n",
              "      <td>-74.345078</td>\n",
              "      <td>35.081532</td>\n",
              "      <td>-79.352837</td>\n",
              "      <td>40.436329</td>\n",
              "      <td>0.000000</td>\n",
              "      <td>2.000000e+00</td>\n",
              "      <td>0.000000</td>\n",
              "      <td>0.000000</td>\n",
              "    </tr>\n",
              "    <tr>\n",
              "      <th>25%</th>\n",
              "      <td>1.000000</td>\n",
              "      <td>1.000000</td>\n",
              "      <td>-73.991318</td>\n",
              "      <td>40.737885</td>\n",
              "      <td>-73.990822</td>\n",
              "      <td>40.736804</td>\n",
              "      <td>0.753846</td>\n",
              "      <td>3.590000e+02</td>\n",
              "      <td>1639.000000</td>\n",
              "      <td>453.000000</td>\n",
              "    </tr>\n",
              "    <tr>\n",
              "      <th>50%</th>\n",
              "      <td>2.000000</td>\n",
              "      <td>1.000000</td>\n",
              "      <td>-73.981133</td>\n",
              "      <td>40.754929</td>\n",
              "      <td>-73.979263</td>\n",
              "      <td>40.755201</td>\n",
              "      <td>1.281959</td>\n",
              "      <td>5.890000e+02</td>\n",
              "      <td>2733.000000</td>\n",
              "      <td>702.000000</td>\n",
              "    </tr>\n",
              "    <tr>\n",
              "      <th>75%</th>\n",
              "      <td>2.000000</td>\n",
              "      <td>2.000000</td>\n",
              "      <td>-73.966316</td>\n",
              "      <td>40.768787</td>\n",
              "      <td>-73.962667</td>\n",
              "      <td>40.770051</td>\n",
              "      <td>2.377999</td>\n",
              "      <td>9.490000e+02</td>\n",
              "      <td>5174.000000</td>\n",
              "      <td>1073.000000</td>\n",
              "    </tr>\n",
              "    <tr>\n",
              "      <th>max</th>\n",
              "      <td>2.000000</td>\n",
              "      <td>8.000000</td>\n",
              "      <td>-71.799896</td>\n",
              "      <td>41.023983</td>\n",
              "      <td>-73.324074</td>\n",
              "      <td>41.334740</td>\n",
              "      <td>553.930793</td>\n",
              "      <td>2.227612e+06</td>\n",
              "      <td>91060.000000</td>\n",
              "      <td>4164.000000</td>\n",
              "    </tr>\n",
              "  </tbody>\n",
              "</table>\n",
              "</div>\n",
              "      <button class=\"colab-df-convert\" onclick=\"convertToInteractive('df-8ff2dcdc-7cac-45c6-b22b-2ce5900eaa7c')\"\n",
              "              title=\"Convert this dataframe to an interactive table.\"\n",
              "              style=\"display:none;\">\n",
              "        \n",
              "  <svg xmlns=\"http://www.w3.org/2000/svg\" height=\"24px\"viewBox=\"0 0 24 24\"\n",
              "       width=\"24px\">\n",
              "    <path d=\"M0 0h24v24H0V0z\" fill=\"none\"/>\n",
              "    <path d=\"M18.56 5.44l.94 2.06.94-2.06 2.06-.94-2.06-.94-.94-2.06-.94 2.06-2.06.94zm-11 1L8.5 8.5l.94-2.06 2.06-.94-2.06-.94L8.5 2.5l-.94 2.06-2.06.94zm10 10l.94 2.06.94-2.06 2.06-.94-2.06-.94-.94-2.06-.94 2.06-2.06.94z\"/><path d=\"M17.41 7.96l-1.37-1.37c-.4-.4-.92-.59-1.43-.59-.52 0-1.04.2-1.43.59L10.3 9.45l-7.72 7.72c-.78.78-.78 2.05 0 2.83L4 21.41c.39.39.9.59 1.41.59.51 0 1.02-.2 1.41-.59l7.78-7.78 2.81-2.81c.8-.78.8-2.07 0-2.86zM5.41 20L4 18.59l7.72-7.72 1.47 1.35L5.41 20z\"/>\n",
              "  </svg>\n",
              "      </button>\n",
              "      \n",
              "  <style>\n",
              "    .colab-df-container {\n",
              "      display:flex;\n",
              "      flex-wrap:wrap;\n",
              "      gap: 12px;\n",
              "    }\n",
              "\n",
              "    .colab-df-convert {\n",
              "      background-color: #E8F0FE;\n",
              "      border: none;\n",
              "      border-radius: 50%;\n",
              "      cursor: pointer;\n",
              "      display: none;\n",
              "      fill: #1967D2;\n",
              "      height: 32px;\n",
              "      padding: 0 0 0 0;\n",
              "      width: 32px;\n",
              "    }\n",
              "\n",
              "    .colab-df-convert:hover {\n",
              "      background-color: #E2EBFA;\n",
              "      box-shadow: 0px 1px 2px rgba(60, 64, 67, 0.3), 0px 1px 3px 1px rgba(60, 64, 67, 0.15);\n",
              "      fill: #174EA6;\n",
              "    }\n",
              "\n",
              "    [theme=dark] .colab-df-convert {\n",
              "      background-color: #3B4455;\n",
              "      fill: #D2E3FC;\n",
              "    }\n",
              "\n",
              "    [theme=dark] .colab-df-convert:hover {\n",
              "      background-color: #434B5C;\n",
              "      box-shadow: 0px 1px 3px 1px rgba(0, 0, 0, 0.15);\n",
              "      filter: drop-shadow(0px 1px 2px rgba(0, 0, 0, 0.3));\n",
              "      fill: #FFFFFF;\n",
              "    }\n",
              "  </style>\n",
              "\n",
              "      <script>\n",
              "        const buttonEl =\n",
              "          document.querySelector('#df-8ff2dcdc-7cac-45c6-b22b-2ce5900eaa7c button.colab-df-convert');\n",
              "        buttonEl.style.display =\n",
              "          google.colab.kernel.accessAllowed ? 'block' : 'none';\n",
              "\n",
              "        async function convertToInteractive(key) {\n",
              "          const element = document.querySelector('#df-8ff2dcdc-7cac-45c6-b22b-2ce5900eaa7c');\n",
              "          const dataTable =\n",
              "            await google.colab.kernel.invokeFunction('convertToInteractive',\n",
              "                                                     [key], {});\n",
              "          if (!dataTable) return;\n",
              "\n",
              "          const docLinkHtml = 'Like what you see? Visit the ' +\n",
              "            '<a target=\"_blank\" href=https://colab.research.google.com/notebooks/data_table.ipynb>data table notebook</a>'\n",
              "            + ' to learn more about interactive tables.';\n",
              "          element.innerHTML = '';\n",
              "          dataTable['output_type'] = 'display_data';\n",
              "          await google.colab.output.renderOutput(dataTable, element);\n",
              "          const docLink = document.createElement('div');\n",
              "          docLink.innerHTML = docLinkHtml;\n",
              "          element.appendChild(docLink);\n",
              "        }\n",
              "      </script>\n",
              "    </div>\n",
              "  </div>\n",
              "  "
            ]
          },
          "metadata": {},
          "execution_count": 11
        }
      ]
    },
    {
      "cell_type": "markdown",
      "source": [
        "# Tratamiento de la data"
      ],
      "metadata": {
        "id": "t0McWnSRdzaz"
      }
    },
    {
      "cell_type": "code",
      "source": [
        "data['pickup_datetime'] = pd.to_datetime(data['pickup_datetime'])\n",
        "data['dropoff_datetime'] = pd.to_datetime(data['dropoff_datetime'])"
      ],
      "metadata": {
        "trusted": true,
        "id": "2QGVDbv3dza0"
      },
      "execution_count": 12,
      "outputs": []
    },
    {
      "cell_type": "code",
      "source": [
        "data.sample(2)"
      ],
      "metadata": {
        "trusted": true,
        "colab": {
          "base_uri": "https://localhost:8080/",
          "height": 191
        },
        "id": "syc-O0HMdza0",
        "outputId": "694be4fb-7395-42d5-ea62-a50dbe69ee4f"
      },
      "execution_count": 13,
      "outputs": [
        {
          "output_type": "execute_result",
          "data": {
            "text/plain": [
              "              id  vendor_id     pickup_datetime    dropoff_datetime  \\\n",
              "14986  id1008684          1 2016-01-04 07:23:00 2016-01-04 07:32:00   \n",
              "23237  id0139686          1 2016-01-05 23:23:00 2016-01-05 23:29:00   \n",
              "\n",
              "       passenger_count  pickup_longitude  pickup_latitude  dropoff_longitude  \\\n",
              "14986                1         -73.99427        40.750984         -73.974625   \n",
              "23237                4         -73.98275        40.772137         -73.985825   \n",
              "\n",
              "       dropoff_latitude store_and_fwd_flag  gc_distance  trip_duration  \\\n",
              "14986         40.750813                  N     1.028652            520   \n",
              "23237         40.758739                  N     0.939803            399   \n",
              "\n",
              "       google_distance  google_duration  \n",
              "14986           2281.0            741.0  \n",
              "23237           1907.0            523.0  "
            ],
            "text/html": [
              "\n",
              "  <div id=\"df-6fdbea25-2ae7-4f45-ac08-a9504259ea90\">\n",
              "    <div class=\"colab-df-container\">\n",
              "      <div>\n",
              "<style scoped>\n",
              "    .dataframe tbody tr th:only-of-type {\n",
              "        vertical-align: middle;\n",
              "    }\n",
              "\n",
              "    .dataframe tbody tr th {\n",
              "        vertical-align: top;\n",
              "    }\n",
              "\n",
              "    .dataframe thead th {\n",
              "        text-align: right;\n",
              "    }\n",
              "</style>\n",
              "<table border=\"1\" class=\"dataframe\">\n",
              "  <thead>\n",
              "    <tr style=\"text-align: right;\">\n",
              "      <th></th>\n",
              "      <th>id</th>\n",
              "      <th>vendor_id</th>\n",
              "      <th>pickup_datetime</th>\n",
              "      <th>dropoff_datetime</th>\n",
              "      <th>passenger_count</th>\n",
              "      <th>pickup_longitude</th>\n",
              "      <th>pickup_latitude</th>\n",
              "      <th>dropoff_longitude</th>\n",
              "      <th>dropoff_latitude</th>\n",
              "      <th>store_and_fwd_flag</th>\n",
              "      <th>gc_distance</th>\n",
              "      <th>trip_duration</th>\n",
              "      <th>google_distance</th>\n",
              "      <th>google_duration</th>\n",
              "    </tr>\n",
              "  </thead>\n",
              "  <tbody>\n",
              "    <tr>\n",
              "      <th>14986</th>\n",
              "      <td>id1008684</td>\n",
              "      <td>1</td>\n",
              "      <td>2016-01-04 07:23:00</td>\n",
              "      <td>2016-01-04 07:32:00</td>\n",
              "      <td>1</td>\n",
              "      <td>-73.99427</td>\n",
              "      <td>40.750984</td>\n",
              "      <td>-73.974625</td>\n",
              "      <td>40.750813</td>\n",
              "      <td>N</td>\n",
              "      <td>1.028652</td>\n",
              "      <td>520</td>\n",
              "      <td>2281.0</td>\n",
              "      <td>741.0</td>\n",
              "    </tr>\n",
              "    <tr>\n",
              "      <th>23237</th>\n",
              "      <td>id0139686</td>\n",
              "      <td>1</td>\n",
              "      <td>2016-01-05 23:23:00</td>\n",
              "      <td>2016-01-05 23:29:00</td>\n",
              "      <td>4</td>\n",
              "      <td>-73.98275</td>\n",
              "      <td>40.772137</td>\n",
              "      <td>-73.985825</td>\n",
              "      <td>40.758739</td>\n",
              "      <td>N</td>\n",
              "      <td>0.939803</td>\n",
              "      <td>399</td>\n",
              "      <td>1907.0</td>\n",
              "      <td>523.0</td>\n",
              "    </tr>\n",
              "  </tbody>\n",
              "</table>\n",
              "</div>\n",
              "      <button class=\"colab-df-convert\" onclick=\"convertToInteractive('df-6fdbea25-2ae7-4f45-ac08-a9504259ea90')\"\n",
              "              title=\"Convert this dataframe to an interactive table.\"\n",
              "              style=\"display:none;\">\n",
              "        \n",
              "  <svg xmlns=\"http://www.w3.org/2000/svg\" height=\"24px\"viewBox=\"0 0 24 24\"\n",
              "       width=\"24px\">\n",
              "    <path d=\"M0 0h24v24H0V0z\" fill=\"none\"/>\n",
              "    <path d=\"M18.56 5.44l.94 2.06.94-2.06 2.06-.94-2.06-.94-.94-2.06-.94 2.06-2.06.94zm-11 1L8.5 8.5l.94-2.06 2.06-.94-2.06-.94L8.5 2.5l-.94 2.06-2.06.94zm10 10l.94 2.06.94-2.06 2.06-.94-2.06-.94-.94-2.06-.94 2.06-2.06.94z\"/><path d=\"M17.41 7.96l-1.37-1.37c-.4-.4-.92-.59-1.43-.59-.52 0-1.04.2-1.43.59L10.3 9.45l-7.72 7.72c-.78.78-.78 2.05 0 2.83L4 21.41c.39.39.9.59 1.41.59.51 0 1.02-.2 1.41-.59l7.78-7.78 2.81-2.81c.8-.78.8-2.07 0-2.86zM5.41 20L4 18.59l7.72-7.72 1.47 1.35L5.41 20z\"/>\n",
              "  </svg>\n",
              "      </button>\n",
              "      \n",
              "  <style>\n",
              "    .colab-df-container {\n",
              "      display:flex;\n",
              "      flex-wrap:wrap;\n",
              "      gap: 12px;\n",
              "    }\n",
              "\n",
              "    .colab-df-convert {\n",
              "      background-color: #E8F0FE;\n",
              "      border: none;\n",
              "      border-radius: 50%;\n",
              "      cursor: pointer;\n",
              "      display: none;\n",
              "      fill: #1967D2;\n",
              "      height: 32px;\n",
              "      padding: 0 0 0 0;\n",
              "      width: 32px;\n",
              "    }\n",
              "\n",
              "    .colab-df-convert:hover {\n",
              "      background-color: #E2EBFA;\n",
              "      box-shadow: 0px 1px 2px rgba(60, 64, 67, 0.3), 0px 1px 3px 1px rgba(60, 64, 67, 0.15);\n",
              "      fill: #174EA6;\n",
              "    }\n",
              "\n",
              "    [theme=dark] .colab-df-convert {\n",
              "      background-color: #3B4455;\n",
              "      fill: #D2E3FC;\n",
              "    }\n",
              "\n",
              "    [theme=dark] .colab-df-convert:hover {\n",
              "      background-color: #434B5C;\n",
              "      box-shadow: 0px 1px 3px 1px rgba(0, 0, 0, 0.15);\n",
              "      filter: drop-shadow(0px 1px 2px rgba(0, 0, 0, 0.3));\n",
              "      fill: #FFFFFF;\n",
              "    }\n",
              "  </style>\n",
              "\n",
              "      <script>\n",
              "        const buttonEl =\n",
              "          document.querySelector('#df-6fdbea25-2ae7-4f45-ac08-a9504259ea90 button.colab-df-convert');\n",
              "        buttonEl.style.display =\n",
              "          google.colab.kernel.accessAllowed ? 'block' : 'none';\n",
              "\n",
              "        async function convertToInteractive(key) {\n",
              "          const element = document.querySelector('#df-6fdbea25-2ae7-4f45-ac08-a9504259ea90');\n",
              "          const dataTable =\n",
              "            await google.colab.kernel.invokeFunction('convertToInteractive',\n",
              "                                                     [key], {});\n",
              "          if (!dataTable) return;\n",
              "\n",
              "          const docLinkHtml = 'Like what you see? Visit the ' +\n",
              "            '<a target=\"_blank\" href=https://colab.research.google.com/notebooks/data_table.ipynb>data table notebook</a>'\n",
              "            + ' to learn more about interactive tables.';\n",
              "          element.innerHTML = '';\n",
              "          dataTable['output_type'] = 'display_data';\n",
              "          await google.colab.output.renderOutput(dataTable, element);\n",
              "          const docLink = document.createElement('div');\n",
              "          docLink.innerHTML = docLinkHtml;\n",
              "          element.appendChild(docLink);\n",
              "        }\n",
              "      </script>\n",
              "    </div>\n",
              "  </div>\n",
              "  "
            ]
          },
          "metadata": {},
          "execution_count": 13
        }
      ]
    },
    {
      "cell_type": "code",
      "source": [
        "data.shape"
      ],
      "metadata": {
        "trusted": true,
        "colab": {
          "base_uri": "https://localhost:8080/"
        },
        "id": "xmQtVlfjdza1",
        "outputId": "ddf4ced4-a641-4054-9240-46d1163faf39"
      },
      "execution_count": 14,
      "outputs": [
        {
          "output_type": "execute_result",
          "data": {
            "text/plain": [
              "(39396, 14)"
            ]
          },
          "metadata": {},
          "execution_count": 14
        }
      ]
    },
    {
      "cell_type": "code",
      "source": [
        "data['pickup_datetime'].dtypes"
      ],
      "metadata": {
        "trusted": true,
        "colab": {
          "base_uri": "https://localhost:8080/"
        },
        "id": "OB6LmunPdza2",
        "outputId": "a992cbbe-c382-423b-df09-355753f8994b"
      },
      "execution_count": 15,
      "outputs": [
        {
          "output_type": "execute_result",
          "data": {
            "text/plain": [
              "dtype('<M8[ns]')"
            ]
          },
          "metadata": {},
          "execution_count": 15
        }
      ]
    },
    {
      "cell_type": "code",
      "source": [
        "data['pickup_day'] = data['pickup_datetime'].dt.day_name()\n",
        "data['dropoff_day'] = data['dropoff_datetime'].dt.day_name()"
      ],
      "metadata": {
        "trusted": true,
        "id": "rv2otHsddza3"
      },
      "execution_count": 16,
      "outputs": []
    },
    {
      "cell_type": "code",
      "source": [
        "data['pickup_day_no'] = data['pickup_datetime'].dt.weekday\n",
        "data['droff_day_no'] = data['dropoff_datetime'].dt.weekday"
      ],
      "metadata": {
        "trusted": true,
        "id": "xTb0ZAt_dza5"
      },
      "execution_count": 17,
      "outputs": []
    },
    {
      "cell_type": "code",
      "source": [
        "data.shape"
      ],
      "metadata": {
        "trusted": true,
        "colab": {
          "base_uri": "https://localhost:8080/"
        },
        "id": "mLCBcn8Xdza5",
        "outputId": "3c2a78de-8b5b-4bd2-9d28-1a0170b25089"
      },
      "execution_count": 18,
      "outputs": [
        {
          "output_type": "execute_result",
          "data": {
            "text/plain": [
              "(39396, 18)"
            ]
          },
          "metadata": {},
          "execution_count": 18
        }
      ]
    },
    {
      "cell_type": "code",
      "source": [
        "data.sample()"
      ],
      "metadata": {
        "trusted": true,
        "colab": {
          "base_uri": "https://localhost:8080/",
          "height": 162
        },
        "id": "g2fs7Jtydza6",
        "outputId": "3e264745-e9bd-40f5-89bf-6cd1067577c9"
      },
      "execution_count": 19,
      "outputs": [
        {
          "output_type": "execute_result",
          "data": {
            "text/plain": [
              "              id  vendor_id     pickup_datetime    dropoff_datetime  \\\n",
              "30941  id2165619          1 2016-01-07 13:50:00 2016-01-07 14:01:00   \n",
              "\n",
              "       passenger_count  pickup_longitude  pickup_latitude  dropoff_longitude  \\\n",
              "30941                1        -73.970444        40.783997         -73.980476   \n",
              "\n",
              "       dropoff_latitude store_and_fwd_flag  gc_distance  trip_duration  \\\n",
              "30941         40.765053                  N      1.41063            690   \n",
              "\n",
              "       google_distance  google_duration pickup_day dropoff_day  pickup_day_no  \\\n",
              "30941           3090.0            768.0   Thursday    Thursday              3   \n",
              "\n",
              "       droff_day_no  \n",
              "30941             3  "
            ],
            "text/html": [
              "\n",
              "  <div id=\"df-4e7769db-cb6a-4ff6-a342-8788a4886f5c\">\n",
              "    <div class=\"colab-df-container\">\n",
              "      <div>\n",
              "<style scoped>\n",
              "    .dataframe tbody tr th:only-of-type {\n",
              "        vertical-align: middle;\n",
              "    }\n",
              "\n",
              "    .dataframe tbody tr th {\n",
              "        vertical-align: top;\n",
              "    }\n",
              "\n",
              "    .dataframe thead th {\n",
              "        text-align: right;\n",
              "    }\n",
              "</style>\n",
              "<table border=\"1\" class=\"dataframe\">\n",
              "  <thead>\n",
              "    <tr style=\"text-align: right;\">\n",
              "      <th></th>\n",
              "      <th>id</th>\n",
              "      <th>vendor_id</th>\n",
              "      <th>pickup_datetime</th>\n",
              "      <th>dropoff_datetime</th>\n",
              "      <th>passenger_count</th>\n",
              "      <th>pickup_longitude</th>\n",
              "      <th>pickup_latitude</th>\n",
              "      <th>dropoff_longitude</th>\n",
              "      <th>dropoff_latitude</th>\n",
              "      <th>store_and_fwd_flag</th>\n",
              "      <th>gc_distance</th>\n",
              "      <th>trip_duration</th>\n",
              "      <th>google_distance</th>\n",
              "      <th>google_duration</th>\n",
              "      <th>pickup_day</th>\n",
              "      <th>dropoff_day</th>\n",
              "      <th>pickup_day_no</th>\n",
              "      <th>droff_day_no</th>\n",
              "    </tr>\n",
              "  </thead>\n",
              "  <tbody>\n",
              "    <tr>\n",
              "      <th>30941</th>\n",
              "      <td>id2165619</td>\n",
              "      <td>1</td>\n",
              "      <td>2016-01-07 13:50:00</td>\n",
              "      <td>2016-01-07 14:01:00</td>\n",
              "      <td>1</td>\n",
              "      <td>-73.970444</td>\n",
              "      <td>40.783997</td>\n",
              "      <td>-73.980476</td>\n",
              "      <td>40.765053</td>\n",
              "      <td>N</td>\n",
              "      <td>1.41063</td>\n",
              "      <td>690</td>\n",
              "      <td>3090.0</td>\n",
              "      <td>768.0</td>\n",
              "      <td>Thursday</td>\n",
              "      <td>Thursday</td>\n",
              "      <td>3</td>\n",
              "      <td>3</td>\n",
              "    </tr>\n",
              "  </tbody>\n",
              "</table>\n",
              "</div>\n",
              "      <button class=\"colab-df-convert\" onclick=\"convertToInteractive('df-4e7769db-cb6a-4ff6-a342-8788a4886f5c')\"\n",
              "              title=\"Convert this dataframe to an interactive table.\"\n",
              "              style=\"display:none;\">\n",
              "        \n",
              "  <svg xmlns=\"http://www.w3.org/2000/svg\" height=\"24px\"viewBox=\"0 0 24 24\"\n",
              "       width=\"24px\">\n",
              "    <path d=\"M0 0h24v24H0V0z\" fill=\"none\"/>\n",
              "    <path d=\"M18.56 5.44l.94 2.06.94-2.06 2.06-.94-2.06-.94-.94-2.06-.94 2.06-2.06.94zm-11 1L8.5 8.5l.94-2.06 2.06-.94-2.06-.94L8.5 2.5l-.94 2.06-2.06.94zm10 10l.94 2.06.94-2.06 2.06-.94-2.06-.94-.94-2.06-.94 2.06-2.06.94z\"/><path d=\"M17.41 7.96l-1.37-1.37c-.4-.4-.92-.59-1.43-.59-.52 0-1.04.2-1.43.59L10.3 9.45l-7.72 7.72c-.78.78-.78 2.05 0 2.83L4 21.41c.39.39.9.59 1.41.59.51 0 1.02-.2 1.41-.59l7.78-7.78 2.81-2.81c.8-.78.8-2.07 0-2.86zM5.41 20L4 18.59l7.72-7.72 1.47 1.35L5.41 20z\"/>\n",
              "  </svg>\n",
              "      </button>\n",
              "      \n",
              "  <style>\n",
              "    .colab-df-container {\n",
              "      display:flex;\n",
              "      flex-wrap:wrap;\n",
              "      gap: 12px;\n",
              "    }\n",
              "\n",
              "    .colab-df-convert {\n",
              "      background-color: #E8F0FE;\n",
              "      border: none;\n",
              "      border-radius: 50%;\n",
              "      cursor: pointer;\n",
              "      display: none;\n",
              "      fill: #1967D2;\n",
              "      height: 32px;\n",
              "      padding: 0 0 0 0;\n",
              "      width: 32px;\n",
              "    }\n",
              "\n",
              "    .colab-df-convert:hover {\n",
              "      background-color: #E2EBFA;\n",
              "      box-shadow: 0px 1px 2px rgba(60, 64, 67, 0.3), 0px 1px 3px 1px rgba(60, 64, 67, 0.15);\n",
              "      fill: #174EA6;\n",
              "    }\n",
              "\n",
              "    [theme=dark] .colab-df-convert {\n",
              "      background-color: #3B4455;\n",
              "      fill: #D2E3FC;\n",
              "    }\n",
              "\n",
              "    [theme=dark] .colab-df-convert:hover {\n",
              "      background-color: #434B5C;\n",
              "      box-shadow: 0px 1px 3px 1px rgba(0, 0, 0, 0.15);\n",
              "      filter: drop-shadow(0px 1px 2px rgba(0, 0, 0, 0.3));\n",
              "      fill: #FFFFFF;\n",
              "    }\n",
              "  </style>\n",
              "\n",
              "      <script>\n",
              "        const buttonEl =\n",
              "          document.querySelector('#df-4e7769db-cb6a-4ff6-a342-8788a4886f5c button.colab-df-convert');\n",
              "        buttonEl.style.display =\n",
              "          google.colab.kernel.accessAllowed ? 'block' : 'none';\n",
              "\n",
              "        async function convertToInteractive(key) {\n",
              "          const element = document.querySelector('#df-4e7769db-cb6a-4ff6-a342-8788a4886f5c');\n",
              "          const dataTable =\n",
              "            await google.colab.kernel.invokeFunction('convertToInteractive',\n",
              "                                                     [key], {});\n",
              "          if (!dataTable) return;\n",
              "\n",
              "          const docLinkHtml = 'Like what you see? Visit the ' +\n",
              "            '<a target=\"_blank\" href=https://colab.research.google.com/notebooks/data_table.ipynb>data table notebook</a>'\n",
              "            + ' to learn more about interactive tables.';\n",
              "          element.innerHTML = '';\n",
              "          dataTable['output_type'] = 'display_data';\n",
              "          await google.colab.output.renderOutput(dataTable, element);\n",
              "          const docLink = document.createElement('div');\n",
              "          docLink.innerHTML = docLinkHtml;\n",
              "          element.appendChild(docLink);\n",
              "        }\n",
              "      </script>\n",
              "    </div>\n",
              "  </div>\n",
              "  "
            ]
          },
          "metadata": {},
          "execution_count": 19
        }
      ]
    },
    {
      "cell_type": "code",
      "source": [
        "data['pickup_hour'] = data['pickup_datetime'].dt.hour\n",
        "data['dropoff_hour'] = data['dropoff_datetime'].dt.hour\n",
        "\n",
        "data['pickup_month'] = data['pickup_datetime'].dt.month\n",
        "data['dropoff_month'] = data['pickup_datetime'].dt.month"
      ],
      "metadata": {
        "trusted": true,
        "id": "vCOw8qQMdza7"
      },
      "execution_count": 20,
      "outputs": []
    },
    {
      "cell_type": "code",
      "source": [
        "data.sample(2)"
      ],
      "metadata": {
        "trusted": true,
        "colab": {
          "base_uri": "https://localhost:8080/",
          "height": 240
        },
        "id": "bvXpN1Vwdza8",
        "outputId": "dc99005f-f8f3-4c00-a02a-14ad5514b936"
      },
      "execution_count": 21,
      "outputs": [
        {
          "output_type": "execute_result",
          "data": {
            "text/plain": [
              "              id  vendor_id     pickup_datetime    dropoff_datetime  \\\n",
              "32743  id2934884          2 2016-01-07 19:32:00 2016-01-07 19:40:00   \n",
              "18509  id1630762          1 2016-01-04 20:33:00 2016-01-04 20:55:00   \n",
              "\n",
              "       passenger_count  pickup_longitude  pickup_latitude  dropoff_longitude  \\\n",
              "32743                1        -73.986389        40.756615         -73.999794   \n",
              "18509                1        -73.985954        40.746376         -73.968918   \n",
              "\n",
              "       dropoff_latitude store_and_fwd_flag  ...  google_distance  \\\n",
              "32743         40.761631                  N  ...           1334.0   \n",
              "18509         40.677883                  N  ...          12750.0   \n",
              "\n",
              "       google_duration  pickup_day  dropoff_day pickup_day_no droff_day_no  \\\n",
              "32743            398.0    Thursday     Thursday             3            3   \n",
              "18509           1749.0      Monday       Monday             0            0   \n",
              "\n",
              "       pickup_hour  dropoff_hour  pickup_month  dropoff_month  \n",
              "32743           19            19             1              1  \n",
              "18509           20            20             1              1  \n",
              "\n",
              "[2 rows x 22 columns]"
            ],
            "text/html": [
              "\n",
              "  <div id=\"df-5d937900-dde2-4315-91b9-d858a0472762\">\n",
              "    <div class=\"colab-df-container\">\n",
              "      <div>\n",
              "<style scoped>\n",
              "    .dataframe tbody tr th:only-of-type {\n",
              "        vertical-align: middle;\n",
              "    }\n",
              "\n",
              "    .dataframe tbody tr th {\n",
              "        vertical-align: top;\n",
              "    }\n",
              "\n",
              "    .dataframe thead th {\n",
              "        text-align: right;\n",
              "    }\n",
              "</style>\n",
              "<table border=\"1\" class=\"dataframe\">\n",
              "  <thead>\n",
              "    <tr style=\"text-align: right;\">\n",
              "      <th></th>\n",
              "      <th>id</th>\n",
              "      <th>vendor_id</th>\n",
              "      <th>pickup_datetime</th>\n",
              "      <th>dropoff_datetime</th>\n",
              "      <th>passenger_count</th>\n",
              "      <th>pickup_longitude</th>\n",
              "      <th>pickup_latitude</th>\n",
              "      <th>dropoff_longitude</th>\n",
              "      <th>dropoff_latitude</th>\n",
              "      <th>store_and_fwd_flag</th>\n",
              "      <th>...</th>\n",
              "      <th>google_distance</th>\n",
              "      <th>google_duration</th>\n",
              "      <th>pickup_day</th>\n",
              "      <th>dropoff_day</th>\n",
              "      <th>pickup_day_no</th>\n",
              "      <th>droff_day_no</th>\n",
              "      <th>pickup_hour</th>\n",
              "      <th>dropoff_hour</th>\n",
              "      <th>pickup_month</th>\n",
              "      <th>dropoff_month</th>\n",
              "    </tr>\n",
              "  </thead>\n",
              "  <tbody>\n",
              "    <tr>\n",
              "      <th>32743</th>\n",
              "      <td>id2934884</td>\n",
              "      <td>2</td>\n",
              "      <td>2016-01-07 19:32:00</td>\n",
              "      <td>2016-01-07 19:40:00</td>\n",
              "      <td>1</td>\n",
              "      <td>-73.986389</td>\n",
              "      <td>40.756615</td>\n",
              "      <td>-73.999794</td>\n",
              "      <td>40.761631</td>\n",
              "      <td>N</td>\n",
              "      <td>...</td>\n",
              "      <td>1334.0</td>\n",
              "      <td>398.0</td>\n",
              "      <td>Thursday</td>\n",
              "      <td>Thursday</td>\n",
              "      <td>3</td>\n",
              "      <td>3</td>\n",
              "      <td>19</td>\n",
              "      <td>19</td>\n",
              "      <td>1</td>\n",
              "      <td>1</td>\n",
              "    </tr>\n",
              "    <tr>\n",
              "      <th>18509</th>\n",
              "      <td>id1630762</td>\n",
              "      <td>1</td>\n",
              "      <td>2016-01-04 20:33:00</td>\n",
              "      <td>2016-01-04 20:55:00</td>\n",
              "      <td>1</td>\n",
              "      <td>-73.985954</td>\n",
              "      <td>40.746376</td>\n",
              "      <td>-73.968918</td>\n",
              "      <td>40.677883</td>\n",
              "      <td>N</td>\n",
              "      <td>...</td>\n",
              "      <td>12750.0</td>\n",
              "      <td>1749.0</td>\n",
              "      <td>Monday</td>\n",
              "      <td>Monday</td>\n",
              "      <td>0</td>\n",
              "      <td>0</td>\n",
              "      <td>20</td>\n",
              "      <td>20</td>\n",
              "      <td>1</td>\n",
              "      <td>1</td>\n",
              "    </tr>\n",
              "  </tbody>\n",
              "</table>\n",
              "<p>2 rows × 22 columns</p>\n",
              "</div>\n",
              "      <button class=\"colab-df-convert\" onclick=\"convertToInteractive('df-5d937900-dde2-4315-91b9-d858a0472762')\"\n",
              "              title=\"Convert this dataframe to an interactive table.\"\n",
              "              style=\"display:none;\">\n",
              "        \n",
              "  <svg xmlns=\"http://www.w3.org/2000/svg\" height=\"24px\"viewBox=\"0 0 24 24\"\n",
              "       width=\"24px\">\n",
              "    <path d=\"M0 0h24v24H0V0z\" fill=\"none\"/>\n",
              "    <path d=\"M18.56 5.44l.94 2.06.94-2.06 2.06-.94-2.06-.94-.94-2.06-.94 2.06-2.06.94zm-11 1L8.5 8.5l.94-2.06 2.06-.94-2.06-.94L8.5 2.5l-.94 2.06-2.06.94zm10 10l.94 2.06.94-2.06 2.06-.94-2.06-.94-.94-2.06-.94 2.06-2.06.94z\"/><path d=\"M17.41 7.96l-1.37-1.37c-.4-.4-.92-.59-1.43-.59-.52 0-1.04.2-1.43.59L10.3 9.45l-7.72 7.72c-.78.78-.78 2.05 0 2.83L4 21.41c.39.39.9.59 1.41.59.51 0 1.02-.2 1.41-.59l7.78-7.78 2.81-2.81c.8-.78.8-2.07 0-2.86zM5.41 20L4 18.59l7.72-7.72 1.47 1.35L5.41 20z\"/>\n",
              "  </svg>\n",
              "      </button>\n",
              "      \n",
              "  <style>\n",
              "    .colab-df-container {\n",
              "      display:flex;\n",
              "      flex-wrap:wrap;\n",
              "      gap: 12px;\n",
              "    }\n",
              "\n",
              "    .colab-df-convert {\n",
              "      background-color: #E8F0FE;\n",
              "      border: none;\n",
              "      border-radius: 50%;\n",
              "      cursor: pointer;\n",
              "      display: none;\n",
              "      fill: #1967D2;\n",
              "      height: 32px;\n",
              "      padding: 0 0 0 0;\n",
              "      width: 32px;\n",
              "    }\n",
              "\n",
              "    .colab-df-convert:hover {\n",
              "      background-color: #E2EBFA;\n",
              "      box-shadow: 0px 1px 2px rgba(60, 64, 67, 0.3), 0px 1px 3px 1px rgba(60, 64, 67, 0.15);\n",
              "      fill: #174EA6;\n",
              "    }\n",
              "\n",
              "    [theme=dark] .colab-df-convert {\n",
              "      background-color: #3B4455;\n",
              "      fill: #D2E3FC;\n",
              "    }\n",
              "\n",
              "    [theme=dark] .colab-df-convert:hover {\n",
              "      background-color: #434B5C;\n",
              "      box-shadow: 0px 1px 3px 1px rgba(0, 0, 0, 0.15);\n",
              "      filter: drop-shadow(0px 1px 2px rgba(0, 0, 0, 0.3));\n",
              "      fill: #FFFFFF;\n",
              "    }\n",
              "  </style>\n",
              "\n",
              "      <script>\n",
              "        const buttonEl =\n",
              "          document.querySelector('#df-5d937900-dde2-4315-91b9-d858a0472762 button.colab-df-convert');\n",
              "        buttonEl.style.display =\n",
              "          google.colab.kernel.accessAllowed ? 'block' : 'none';\n",
              "\n",
              "        async function convertToInteractive(key) {\n",
              "          const element = document.querySelector('#df-5d937900-dde2-4315-91b9-d858a0472762');\n",
              "          const dataTable =\n",
              "            await google.colab.kernel.invokeFunction('convertToInteractive',\n",
              "                                                     [key], {});\n",
              "          if (!dataTable) return;\n",
              "\n",
              "          const docLinkHtml = 'Like what you see? Visit the ' +\n",
              "            '<a target=\"_blank\" href=https://colab.research.google.com/notebooks/data_table.ipynb>data table notebook</a>'\n",
              "            + ' to learn more about interactive tables.';\n",
              "          element.innerHTML = '';\n",
              "          dataTable['output_type'] = 'display_data';\n",
              "          await google.colab.output.renderOutput(dataTable, element);\n",
              "          const docLink = document.createElement('div');\n",
              "          docLink.innerHTML = docLinkHtml;\n",
              "          element.appendChild(docLink);\n",
              "        }\n",
              "      </script>\n",
              "    </div>\n",
              "  </div>\n",
              "  "
            ]
          },
          "metadata": {},
          "execution_count": 21
        }
      ]
    },
    {
      "cell_type": "code",
      "source": [
        "def time_of_day(x):\n",
        "    if x in range(6,12):\n",
        "        return 'morning'\n",
        "    elif x in range(12,16):\n",
        "        return 'Afternoon'\n",
        "    elif x in range(16,20):\n",
        "        return 'Evening'\n",
        "    else:\n",
        "        return 'Night'\n",
        "    "
      ],
      "metadata": {
        "trusted": true,
        "id": "1-nGf5Rfdza9"
      },
      "execution_count": 22,
      "outputs": []
    },
    {
      "cell_type": "code",
      "source": [
        "data['pickup_timeofday'] = data['pickup_hour'].apply(time_of_day)\n",
        "data['dropoff_timeofday'] = data['dropoff_hour'].apply(time_of_day)"
      ],
      "metadata": {
        "trusted": true,
        "id": "kN4vVVg4dza9"
      },
      "execution_count": 23,
      "outputs": []
    },
    {
      "cell_type": "code",
      "source": [
        "data.sample(2)"
      ],
      "metadata": {
        "trusted": true,
        "colab": {
          "base_uri": "https://localhost:8080/",
          "height": 240
        },
        "id": "kmiypTzcdza-",
        "outputId": "703cb518-c926-413c-fdef-a50666a0af4c"
      },
      "execution_count": 24,
      "outputs": [
        {
          "output_type": "execute_result",
          "data": {
            "text/plain": [
              "              id  vendor_id     pickup_datetime    dropoff_datetime  \\\n",
              "39272  id1583886          1 2016-01-08 21:33:00 2016-01-08 21:55:00   \n",
              "7383   id0074701          1 2016-01-02 15:17:00 2016-01-02 15:34:00   \n",
              "\n",
              "       passenger_count  pickup_longitude  pickup_latitude  dropoff_longitude  \\\n",
              "39272                1        -73.873215        40.774036         -73.996353   \n",
              "7383                 2        -74.011269        40.713402         -73.995949   \n",
              "\n",
              "       dropoff_latitude store_and_fwd_flag  ...  pickup_day  dropoff_day  \\\n",
              "39272         40.742851                  N  ...      Friday       Friday   \n",
              "7383          40.722000                  N  ...    Saturday     Saturday   \n",
              "\n",
              "       pickup_day_no  droff_day_no pickup_hour dropoff_hour  pickup_month  \\\n",
              "39272              4             4          21           21             1   \n",
              "7383               5             5          15           15             1   \n",
              "\n",
              "       dropoff_month  pickup_timeofday  dropoff_timeofday  \n",
              "39272              1             Night              Night  \n",
              "7383               1         Afternoon          Afternoon  \n",
              "\n",
              "[2 rows x 24 columns]"
            ],
            "text/html": [
              "\n",
              "  <div id=\"df-412b9ceb-f9cf-4d42-8b95-af84e92ab553\">\n",
              "    <div class=\"colab-df-container\">\n",
              "      <div>\n",
              "<style scoped>\n",
              "    .dataframe tbody tr th:only-of-type {\n",
              "        vertical-align: middle;\n",
              "    }\n",
              "\n",
              "    .dataframe tbody tr th {\n",
              "        vertical-align: top;\n",
              "    }\n",
              "\n",
              "    .dataframe thead th {\n",
              "        text-align: right;\n",
              "    }\n",
              "</style>\n",
              "<table border=\"1\" class=\"dataframe\">\n",
              "  <thead>\n",
              "    <tr style=\"text-align: right;\">\n",
              "      <th></th>\n",
              "      <th>id</th>\n",
              "      <th>vendor_id</th>\n",
              "      <th>pickup_datetime</th>\n",
              "      <th>dropoff_datetime</th>\n",
              "      <th>passenger_count</th>\n",
              "      <th>pickup_longitude</th>\n",
              "      <th>pickup_latitude</th>\n",
              "      <th>dropoff_longitude</th>\n",
              "      <th>dropoff_latitude</th>\n",
              "      <th>store_and_fwd_flag</th>\n",
              "      <th>...</th>\n",
              "      <th>pickup_day</th>\n",
              "      <th>dropoff_day</th>\n",
              "      <th>pickup_day_no</th>\n",
              "      <th>droff_day_no</th>\n",
              "      <th>pickup_hour</th>\n",
              "      <th>dropoff_hour</th>\n",
              "      <th>pickup_month</th>\n",
              "      <th>dropoff_month</th>\n",
              "      <th>pickup_timeofday</th>\n",
              "      <th>dropoff_timeofday</th>\n",
              "    </tr>\n",
              "  </thead>\n",
              "  <tbody>\n",
              "    <tr>\n",
              "      <th>39272</th>\n",
              "      <td>id1583886</td>\n",
              "      <td>1</td>\n",
              "      <td>2016-01-08 21:33:00</td>\n",
              "      <td>2016-01-08 21:55:00</td>\n",
              "      <td>1</td>\n",
              "      <td>-73.873215</td>\n",
              "      <td>40.774036</td>\n",
              "      <td>-73.996353</td>\n",
              "      <td>40.742851</td>\n",
              "      <td>N</td>\n",
              "      <td>...</td>\n",
              "      <td>Friday</td>\n",
              "      <td>Friday</td>\n",
              "      <td>4</td>\n",
              "      <td>4</td>\n",
              "      <td>21</td>\n",
              "      <td>21</td>\n",
              "      <td>1</td>\n",
              "      <td>1</td>\n",
              "      <td>Night</td>\n",
              "      <td>Night</td>\n",
              "    </tr>\n",
              "    <tr>\n",
              "      <th>7383</th>\n",
              "      <td>id0074701</td>\n",
              "      <td>1</td>\n",
              "      <td>2016-01-02 15:17:00</td>\n",
              "      <td>2016-01-02 15:34:00</td>\n",
              "      <td>2</td>\n",
              "      <td>-74.011269</td>\n",
              "      <td>40.713402</td>\n",
              "      <td>-73.995949</td>\n",
              "      <td>40.722000</td>\n",
              "      <td>N</td>\n",
              "      <td>...</td>\n",
              "      <td>Saturday</td>\n",
              "      <td>Saturday</td>\n",
              "      <td>5</td>\n",
              "      <td>5</td>\n",
              "      <td>15</td>\n",
              "      <td>15</td>\n",
              "      <td>1</td>\n",
              "      <td>1</td>\n",
              "      <td>Afternoon</td>\n",
              "      <td>Afternoon</td>\n",
              "    </tr>\n",
              "  </tbody>\n",
              "</table>\n",
              "<p>2 rows × 24 columns</p>\n",
              "</div>\n",
              "      <button class=\"colab-df-convert\" onclick=\"convertToInteractive('df-412b9ceb-f9cf-4d42-8b95-af84e92ab553')\"\n",
              "              title=\"Convert this dataframe to an interactive table.\"\n",
              "              style=\"display:none;\">\n",
              "        \n",
              "  <svg xmlns=\"http://www.w3.org/2000/svg\" height=\"24px\"viewBox=\"0 0 24 24\"\n",
              "       width=\"24px\">\n",
              "    <path d=\"M0 0h24v24H0V0z\" fill=\"none\"/>\n",
              "    <path d=\"M18.56 5.44l.94 2.06.94-2.06 2.06-.94-2.06-.94-.94-2.06-.94 2.06-2.06.94zm-11 1L8.5 8.5l.94-2.06 2.06-.94-2.06-.94L8.5 2.5l-.94 2.06-2.06.94zm10 10l.94 2.06.94-2.06 2.06-.94-2.06-.94-.94-2.06-.94 2.06-2.06.94z\"/><path d=\"M17.41 7.96l-1.37-1.37c-.4-.4-.92-.59-1.43-.59-.52 0-1.04.2-1.43.59L10.3 9.45l-7.72 7.72c-.78.78-.78 2.05 0 2.83L4 21.41c.39.39.9.59 1.41.59.51 0 1.02-.2 1.41-.59l7.78-7.78 2.81-2.81c.8-.78.8-2.07 0-2.86zM5.41 20L4 18.59l7.72-7.72 1.47 1.35L5.41 20z\"/>\n",
              "  </svg>\n",
              "      </button>\n",
              "      \n",
              "  <style>\n",
              "    .colab-df-container {\n",
              "      display:flex;\n",
              "      flex-wrap:wrap;\n",
              "      gap: 12px;\n",
              "    }\n",
              "\n",
              "    .colab-df-convert {\n",
              "      background-color: #E8F0FE;\n",
              "      border: none;\n",
              "      border-radius: 50%;\n",
              "      cursor: pointer;\n",
              "      display: none;\n",
              "      fill: #1967D2;\n",
              "      height: 32px;\n",
              "      padding: 0 0 0 0;\n",
              "      width: 32px;\n",
              "    }\n",
              "\n",
              "    .colab-df-convert:hover {\n",
              "      background-color: #E2EBFA;\n",
              "      box-shadow: 0px 1px 2px rgba(60, 64, 67, 0.3), 0px 1px 3px 1px rgba(60, 64, 67, 0.15);\n",
              "      fill: #174EA6;\n",
              "    }\n",
              "\n",
              "    [theme=dark] .colab-df-convert {\n",
              "      background-color: #3B4455;\n",
              "      fill: #D2E3FC;\n",
              "    }\n",
              "\n",
              "    [theme=dark] .colab-df-convert:hover {\n",
              "      background-color: #434B5C;\n",
              "      box-shadow: 0px 1px 3px 1px rgba(0, 0, 0, 0.15);\n",
              "      filter: drop-shadow(0px 1px 2px rgba(0, 0, 0, 0.3));\n",
              "      fill: #FFFFFF;\n",
              "    }\n",
              "  </style>\n",
              "\n",
              "      <script>\n",
              "        const buttonEl =\n",
              "          document.querySelector('#df-412b9ceb-f9cf-4d42-8b95-af84e92ab553 button.colab-df-convert');\n",
              "        buttonEl.style.display =\n",
              "          google.colab.kernel.accessAllowed ? 'block' : 'none';\n",
              "\n",
              "        async function convertToInteractive(key) {\n",
              "          const element = document.querySelector('#df-412b9ceb-f9cf-4d42-8b95-af84e92ab553');\n",
              "          const dataTable =\n",
              "            await google.colab.kernel.invokeFunction('convertToInteractive',\n",
              "                                                     [key], {});\n",
              "          if (!dataTable) return;\n",
              "\n",
              "          const docLinkHtml = 'Like what you see? Visit the ' +\n",
              "            '<a target=\"_blank\" href=https://colab.research.google.com/notebooks/data_table.ipynb>data table notebook</a>'\n",
              "            + ' to learn more about interactive tables.';\n",
              "          element.innerHTML = '';\n",
              "          dataTable['output_type'] = 'display_data';\n",
              "          await google.colab.output.renderOutput(dataTable, element);\n",
              "          const docLink = document.createElement('div');\n",
              "          docLink.innerHTML = docLinkHtml;\n",
              "          element.appendChild(docLink);\n",
              "        }\n",
              "      </script>\n",
              "    </div>\n",
              "  </div>\n",
              "  "
            ]
          },
          "metadata": {},
          "execution_count": 24
        }
      ]
    },
    {
      "cell_type": "code",
      "source": [
        "from geopy.distance import great_circle"
      ],
      "metadata": {
        "trusted": true,
        "id": "6TajacMjdza_"
      },
      "execution_count": 25,
      "outputs": []
    },
    {
      "cell_type": "code",
      "source": [
        "def cal_distance(pickup_lat , pickup_long , dropoff_lat, dropoff_long):\n",
        "    start_coordinates = (pickup_lat, pickup_long)\n",
        "    stop_coordinates = (dropoff_lat, dropoff_long)\n",
        "    \n",
        "    return great_circle(start_coordinates, stop_coordinates).km\n",
        "    "
      ],
      "metadata": {
        "trusted": true,
        "id": "cuDM6FrndzbA"
      },
      "execution_count": 26,
      "outputs": []
    },
    {
      "cell_type": "code",
      "source": [
        "data['distance'] = data.apply(lambda x : cal_distance(x['pickup_latitude'],x['pickup_longitude'], x['dropoff_latitude'],x['dropoff_longitude']), axis=1)"
      ],
      "metadata": {
        "trusted": true,
        "id": "UgGuCTsKdzbB"
      },
      "execution_count": 27,
      "outputs": []
    },
    {
      "cell_type": "code",
      "source": [
        "data['distance'] = data.apply(lambda x: cal_distance(x['pickup_latitude'],x['pickup_longitude'],x['dropoff_latitude'],x['dropoff_longitude']),axis=1)"
      ],
      "metadata": {
        "trusted": true,
        "id": "GkRU_LaIdzbC"
      },
      "execution_count": 28,
      "outputs": []
    },
    {
      "cell_type": "code",
      "source": [
        "data.sample(2)"
      ],
      "metadata": {
        "trusted": true,
        "colab": {
          "base_uri": "https://localhost:8080/",
          "height": 240
        },
        "id": "Gsc5Dt70dzbE",
        "outputId": "cd9424d2-a50f-4682-ab4a-3e911d25367b"
      },
      "execution_count": 29,
      "outputs": [
        {
          "output_type": "execute_result",
          "data": {
            "text/plain": [
              "              id  vendor_id     pickup_datetime    dropoff_datetime  \\\n",
              "1016   id2252563          1 2016-01-01 02:34:00 2016-01-01 02:52:00   \n",
              "23191  id0044327          1 2016-01-05 23:09:00 2016-01-05 23:16:00   \n",
              "\n",
              "       passenger_count  pickup_longitude  pickup_latitude  dropoff_longitude  \\\n",
              "1016                 1        -74.002464        40.750168         -73.949646   \n",
              "23191                1        -73.988762        40.739609         -73.973404   \n",
              "\n",
              "       dropoff_latitude store_and_fwd_flag  ...  dropoff_day  pickup_day_no  \\\n",
              "1016          40.781734                  N  ...       Friday              4   \n",
              "23191         40.738251                  N  ...      Tuesday              1   \n",
              "\n",
              "       droff_day_no  pickup_hour dropoff_hour pickup_month  dropoff_month  \\\n",
              "1016              4            2            2            1              1   \n",
              "23191             1           23           23            1              1   \n",
              "\n",
              "       pickup_timeofday  dropoff_timeofday  distance  \n",
              "1016              Night              Night  5.666310  \n",
              "23191             Night              Night  1.302714  \n",
              "\n",
              "[2 rows x 25 columns]"
            ],
            "text/html": [
              "\n",
              "  <div id=\"df-f1ee2267-e4b1-4f47-862f-ea60111eb432\">\n",
              "    <div class=\"colab-df-container\">\n",
              "      <div>\n",
              "<style scoped>\n",
              "    .dataframe tbody tr th:only-of-type {\n",
              "        vertical-align: middle;\n",
              "    }\n",
              "\n",
              "    .dataframe tbody tr th {\n",
              "        vertical-align: top;\n",
              "    }\n",
              "\n",
              "    .dataframe thead th {\n",
              "        text-align: right;\n",
              "    }\n",
              "</style>\n",
              "<table border=\"1\" class=\"dataframe\">\n",
              "  <thead>\n",
              "    <tr style=\"text-align: right;\">\n",
              "      <th></th>\n",
              "      <th>id</th>\n",
              "      <th>vendor_id</th>\n",
              "      <th>pickup_datetime</th>\n",
              "      <th>dropoff_datetime</th>\n",
              "      <th>passenger_count</th>\n",
              "      <th>pickup_longitude</th>\n",
              "      <th>pickup_latitude</th>\n",
              "      <th>dropoff_longitude</th>\n",
              "      <th>dropoff_latitude</th>\n",
              "      <th>store_and_fwd_flag</th>\n",
              "      <th>...</th>\n",
              "      <th>dropoff_day</th>\n",
              "      <th>pickup_day_no</th>\n",
              "      <th>droff_day_no</th>\n",
              "      <th>pickup_hour</th>\n",
              "      <th>dropoff_hour</th>\n",
              "      <th>pickup_month</th>\n",
              "      <th>dropoff_month</th>\n",
              "      <th>pickup_timeofday</th>\n",
              "      <th>dropoff_timeofday</th>\n",
              "      <th>distance</th>\n",
              "    </tr>\n",
              "  </thead>\n",
              "  <tbody>\n",
              "    <tr>\n",
              "      <th>1016</th>\n",
              "      <td>id2252563</td>\n",
              "      <td>1</td>\n",
              "      <td>2016-01-01 02:34:00</td>\n",
              "      <td>2016-01-01 02:52:00</td>\n",
              "      <td>1</td>\n",
              "      <td>-74.002464</td>\n",
              "      <td>40.750168</td>\n",
              "      <td>-73.949646</td>\n",
              "      <td>40.781734</td>\n",
              "      <td>N</td>\n",
              "      <td>...</td>\n",
              "      <td>Friday</td>\n",
              "      <td>4</td>\n",
              "      <td>4</td>\n",
              "      <td>2</td>\n",
              "      <td>2</td>\n",
              "      <td>1</td>\n",
              "      <td>1</td>\n",
              "      <td>Night</td>\n",
              "      <td>Night</td>\n",
              "      <td>5.666310</td>\n",
              "    </tr>\n",
              "    <tr>\n",
              "      <th>23191</th>\n",
              "      <td>id0044327</td>\n",
              "      <td>1</td>\n",
              "      <td>2016-01-05 23:09:00</td>\n",
              "      <td>2016-01-05 23:16:00</td>\n",
              "      <td>1</td>\n",
              "      <td>-73.988762</td>\n",
              "      <td>40.739609</td>\n",
              "      <td>-73.973404</td>\n",
              "      <td>40.738251</td>\n",
              "      <td>N</td>\n",
              "      <td>...</td>\n",
              "      <td>Tuesday</td>\n",
              "      <td>1</td>\n",
              "      <td>1</td>\n",
              "      <td>23</td>\n",
              "      <td>23</td>\n",
              "      <td>1</td>\n",
              "      <td>1</td>\n",
              "      <td>Night</td>\n",
              "      <td>Night</td>\n",
              "      <td>1.302714</td>\n",
              "    </tr>\n",
              "  </tbody>\n",
              "</table>\n",
              "<p>2 rows × 25 columns</p>\n",
              "</div>\n",
              "      <button class=\"colab-df-convert\" onclick=\"convertToInteractive('df-f1ee2267-e4b1-4f47-862f-ea60111eb432')\"\n",
              "              title=\"Convert this dataframe to an interactive table.\"\n",
              "              style=\"display:none;\">\n",
              "        \n",
              "  <svg xmlns=\"http://www.w3.org/2000/svg\" height=\"24px\"viewBox=\"0 0 24 24\"\n",
              "       width=\"24px\">\n",
              "    <path d=\"M0 0h24v24H0V0z\" fill=\"none\"/>\n",
              "    <path d=\"M18.56 5.44l.94 2.06.94-2.06 2.06-.94-2.06-.94-.94-2.06-.94 2.06-2.06.94zm-11 1L8.5 8.5l.94-2.06 2.06-.94-2.06-.94L8.5 2.5l-.94 2.06-2.06.94zm10 10l.94 2.06.94-2.06 2.06-.94-2.06-.94-.94-2.06-.94 2.06-2.06.94z\"/><path d=\"M17.41 7.96l-1.37-1.37c-.4-.4-.92-.59-1.43-.59-.52 0-1.04.2-1.43.59L10.3 9.45l-7.72 7.72c-.78.78-.78 2.05 0 2.83L4 21.41c.39.39.9.59 1.41.59.51 0 1.02-.2 1.41-.59l7.78-7.78 2.81-2.81c.8-.78.8-2.07 0-2.86zM5.41 20L4 18.59l7.72-7.72 1.47 1.35L5.41 20z\"/>\n",
              "  </svg>\n",
              "      </button>\n",
              "      \n",
              "  <style>\n",
              "    .colab-df-container {\n",
              "      display:flex;\n",
              "      flex-wrap:wrap;\n",
              "      gap: 12px;\n",
              "    }\n",
              "\n",
              "    .colab-df-convert {\n",
              "      background-color: #E8F0FE;\n",
              "      border: none;\n",
              "      border-radius: 50%;\n",
              "      cursor: pointer;\n",
              "      display: none;\n",
              "      fill: #1967D2;\n",
              "      height: 32px;\n",
              "      padding: 0 0 0 0;\n",
              "      width: 32px;\n",
              "    }\n",
              "\n",
              "    .colab-df-convert:hover {\n",
              "      background-color: #E2EBFA;\n",
              "      box-shadow: 0px 1px 2px rgba(60, 64, 67, 0.3), 0px 1px 3px 1px rgba(60, 64, 67, 0.15);\n",
              "      fill: #174EA6;\n",
              "    }\n",
              "\n",
              "    [theme=dark] .colab-df-convert {\n",
              "      background-color: #3B4455;\n",
              "      fill: #D2E3FC;\n",
              "    }\n",
              "\n",
              "    [theme=dark] .colab-df-convert:hover {\n",
              "      background-color: #434B5C;\n",
              "      box-shadow: 0px 1px 3px 1px rgba(0, 0, 0, 0.15);\n",
              "      filter: drop-shadow(0px 1px 2px rgba(0, 0, 0, 0.3));\n",
              "      fill: #FFFFFF;\n",
              "    }\n",
              "  </style>\n",
              "\n",
              "      <script>\n",
              "        const buttonEl =\n",
              "          document.querySelector('#df-f1ee2267-e4b1-4f47-862f-ea60111eb432 button.colab-df-convert');\n",
              "        buttonEl.style.display =\n",
              "          google.colab.kernel.accessAllowed ? 'block' : 'none';\n",
              "\n",
              "        async function convertToInteractive(key) {\n",
              "          const element = document.querySelector('#df-f1ee2267-e4b1-4f47-862f-ea60111eb432');\n",
              "          const dataTable =\n",
              "            await google.colab.kernel.invokeFunction('convertToInteractive',\n",
              "                                                     [key], {});\n",
              "          if (!dataTable) return;\n",
              "\n",
              "          const docLinkHtml = 'Like what you see? Visit the ' +\n",
              "            '<a target=\"_blank\" href=https://colab.research.google.com/notebooks/data_table.ipynb>data table notebook</a>'\n",
              "            + ' to learn more about interactive tables.';\n",
              "          element.innerHTML = '';\n",
              "          dataTable['output_type'] = 'display_data';\n",
              "          await google.colab.output.renderOutput(dataTable, element);\n",
              "          const docLink = document.createElement('div');\n",
              "          docLink.innerHTML = docLinkHtml;\n",
              "          element.appendChild(docLink);\n",
              "        }\n",
              "      </script>\n",
              "    </div>\n",
              "  </div>\n",
              "  "
            ]
          },
          "metadata": {},
          "execution_count": 29
        }
      ]
    },
    {
      "cell_type": "markdown",
      "source": [
        "# Análisis de variables"
      ],
      "metadata": {
        "id": "pcW-yk_hdzbG"
      }
    },
    {
      "cell_type": "code",
      "source": [
        "sns.histplot(data['trip_duration'], kde=False,bins = 20)"
      ],
      "metadata": {
        "trusted": true,
        "colab": {
          "base_uri": "https://localhost:8080/",
          "height": 302
        },
        "id": "PaQVD5l4dzbI",
        "outputId": "a6fd3fae-1b50-4a89-a2c2-095cec9d1cad"
      },
      "execution_count": 30,
      "outputs": [
        {
          "output_type": "execute_result",
          "data": {
            "text/plain": [
              "<matplotlib.axes._subplots.AxesSubplot at 0x7f3e60413150>"
            ]
          },
          "metadata": {},
          "execution_count": 30
        },
        {
          "output_type": "display_data",
          "data": {
            "text/plain": [
              "<Figure size 432x288 with 1 Axes>"
            ],
            "image/png": "[encoded data removed]"
          },
          "metadata": {
            "needs_background": "light"
          }
        }
      ]
    },
    {
      "cell_type": "code",
      "source": [
        "sns.boxplot(data['trip_duration'])"
      ],
      "metadata": {
        "trusted": true,
        "colab": {
          "base_uri": "https://localhost:8080/",
          "height": 302
        },
        "id": "dZWdCrPhdzbK",
        "outputId": "b6346e27-1022-47de-86c2-581bebdb808a"
      },
      "execution_count": 31,
      "outputs": [
        {
          "output_type": "execute_result",
          "data": {
            "text/plain": [
              "<matplotlib.axes._subplots.AxesSubplot at 0x7f3e5dfd86d0>"
            ]
          },
          "metadata": {},
          "execution_count": 31
        },
        {
          "output_type": "display_data",
          "data": {
            "text/plain": [
              "<Figure size 432x288 with 1 Axes>"
            ],
            "image/png": "[encoded data removed]"
          },
          "metadata": {
            "needs_background": "light"
          }
        }
      ]
    },
    {
      "cell_type": "code",
      "source": [
        "data['trip_duration'].sort_values(ascending = False)"
      ],
      "metadata": {
        "trusted": true,
        "colab": {
          "base_uri": "https://localhost:8080/"
        },
        "id": "3T_BSCfCdzbL",
        "outputId": "e7b5150e-e3c7-4761-ea0c-6db78b41244e"
      },
      "execution_count": 32,
      "outputs": [
        {
          "output_type": "execute_result",
          "data": {
            "text/plain": [
              "19563    2227612\n",
              "19297    1939736\n",
              "17686      86354\n",
              "2578       86353\n",
              "20824      86346\n",
              "          ...   \n",
              "7406           3\n",
              "19101          3\n",
              "32884          3\n",
              "32995          3\n",
              "32060          2\n",
              "Name: trip_duration, Length: 39396, dtype: int64"
            ]
          },
          "metadata": {},
          "execution_count": 32
        }
      ]
    },
    {
      "cell_type": "code",
      "source": [
        "data.drop(data[data['trip_duration'] == 1939736].index, inplace=True)"
      ],
      "metadata": {
        "trusted": true,
        "id": "DXvsKY5ZdzbM"
      },
      "execution_count": 33,
      "outputs": []
    },
    {
      "cell_type": "code",
      "source": [
        "sns.countplot(x ='vendor_id' ,data = data)"
      ],
      "metadata": {
        "trusted": true,
        "colab": {
          "base_uri": "https://localhost:8080/",
          "height": 302
        },
        "id": "CUZgGSMhdzbN",
        "outputId": "382df658-6684-404a-f8b3-d7563c918690"
      },
      "execution_count": 34,
      "outputs": [
        {
          "output_type": "execute_result",
          "data": {
            "text/plain": [
              "<matplotlib.axes._subplots.AxesSubplot at 0x7f3e5f38f190>"
            ]
          },
          "metadata": {},
          "execution_count": 34
        },
        {
          "output_type": "display_data",
          "data": {
            "text/plain": [
              "<Figure size 432x288 with 1 Axes>"
            ],
            "image/png": "[encoded data removed]"
          },
          "metadata": {
            "needs_background": "light"
          }
        }
      ]
    },
    {
      "cell_type": "code",
      "source": [
        "data.passenger_count.value_counts()"
      ],
      "metadata": {
        "trusted": true,
        "colab": {
          "base_uri": "https://localhost:8080/"
        },
        "id": "DhjqubmWdzbO",
        "outputId": "227a6258-19bd-42d1-9e00-d29f78ebf3a3"
      },
      "execution_count": 35,
      "outputs": [
        {
          "output_type": "execute_result",
          "data": {
            "text/plain": [
              "1    27494\n",
              "2     5803\n",
              "5     2202\n",
              "3     1654\n",
              "6     1310\n",
              "4      926\n",
              "0        5\n",
              "8        1\n",
              "Name: passenger_count, dtype: int64"
            ]
          },
          "metadata": {},
          "execution_count": 35
        }
      ]
    },
    {
      "cell_type": "code",
      "source": [
        "sns.countplot(x = 'passenger_count', data = data)"
      ],
      "metadata": {
        "trusted": true,
        "colab": {
          "base_uri": "https://localhost:8080/",
          "height": 302
        },
        "id": "dj--uXNxdzbP",
        "outputId": "b584ad7c-0e36-4695-fe6a-a54dbae00179"
      },
      "execution_count": 36,
      "outputs": [
        {
          "output_type": "execute_result",
          "data": {
            "text/plain": [
              "<matplotlib.axes._subplots.AxesSubplot at 0x7f3e5f738650>"
            ]
          },
          "metadata": {},
          "execution_count": 36
        },
        {
          "output_type": "display_data",
          "data": {
            "text/plain": [
              "<Figure size 432x288 with 1 Axes>"
            ],
            "image/png": "[encoded data removed]"
          },
          "metadata": {
            "needs_background": "light"
          }
        }
      ]
    },
    {
      "cell_type": "code",
      "source": [
        "data = data[data['passenger_count']!= 0]\n",
        "data = data[data['passenger_count']<= 6]"
      ],
      "metadata": {
        "trusted": true,
        "id": "IThUVfQYdzbQ"
      },
      "execution_count": 37,
      "outputs": []
    },
    {
      "cell_type": "code",
      "source": [
        "data['store_and_fwd_flag'].value_counts(normalize = True)"
      ],
      "metadata": {
        "trusted": true,
        "colab": {
          "base_uri": "https://localhost:8080/"
        },
        "id": "m-oX3viMdzbR",
        "outputId": "5c07c516-ff4d-4bfe-a19f-bc70e77b246b"
      },
      "execution_count": 38,
      "outputs": [
        {
          "output_type": "execute_result",
          "data": {
            "text/plain": [
              "N    0.994161\n",
              "Y    0.005839\n",
              "Name: store_and_fwd_flag, dtype: float64"
            ]
          },
          "metadata": {},
          "execution_count": 38
        }
      ]
    },
    {
      "cell_type": "markdown",
      "source": [],
      "metadata": {
        "id": "gm8VZdYvgPR8"
      }
    },
    {
      "cell_type": "markdown",
      "source": [
        "# Distancia"
      ],
      "metadata": {
        "id": "NkLHfKGvdzbT"
      }
    },
    {
      "cell_type": "code",
      "source": [
        "data['distance'].value_counts()"
      ],
      "metadata": {
        "trusted": true,
        "colab": {
          "base_uri": "https://localhost:8080/"
        },
        "id": "sCIav-ZBdzbU",
        "outputId": "3cfae0de-7ca5-4bd1-9606-44dc19224bbc"
      },
      "execution_count": 39,
      "outputs": [
        {
          "output_type": "execute_result",
          "data": {
            "text/plain": [
              "0.000000    157\n",
              "0.000424      2\n",
              "0.000425      2\n",
              "0.002122      2\n",
              "0.873825      1\n",
              "           ... \n",
              "2.769188      1\n",
              "2.099296      1\n",
              "0.545191      1\n",
              "0.911024      1\n",
              "2.559491      1\n",
              "Name: distance, Length: 39230, dtype: int64"
            ]
          },
          "metadata": {},
          "execution_count": 39
        }
      ]
    },
    {
      "cell_type": "markdown",
      "source": [
        "# Viajes por día"
      ],
      "metadata": {
        "id": "4L4-b7OpdzbV"
      }
    },
    {
      "cell_type": "code",
      "source": [
        "figure , (ax1,ax2) = plt.subplots(ncols = 2, figsize = (20,5))\n",
        "ax1.set_title('Pickup_Days')\n",
        "ax = sns.countplot(x = 'pickup_day', data = data, ax = ax1)\n",
        "\n",
        "ax2.set_title('Dropoff Days')\n",
        "ax = sns.countplot(x ='dropoff_day', data = data, ax =ax2)"
      ],
      "metadata": {
        "trusted": true,
        "colab": {
          "base_uri": "https://localhost:8080/",
          "height": 355
        },
        "id": "8qWg_7k7dzbX",
        "outputId": "5c64dc92-4c6e-4292-ab6d-5379f4750421"
      },
      "execution_count": 40,
      "outputs": [
        {
          "output_type": "display_data",
          "data": {
            "text/plain": [
              "<Figure size 1440x360 with 2 Axes>"
            ],
            "image/png": "[encoded data removed]"
          },
          "metadata": {
            "needs_background": "light"
          }
        }
      ]
    },
    {
      "cell_type": "markdown",
      "source": [
        "# Viajes por hora\n"
      ],
      "metadata": {
        "id": "t_66JKsAdzbY"
      }
    },
    {
      "cell_type": "code",
      "source": [
        "figure, (ax9,ax10) = plt.subplots(ncols = 2, figsize= (20,5))\n",
        "ax9.set_title('Pickup_Days')\n",
        "ax= sns.countplot(x ='pickup_hour', data = data, ax = ax9)\n",
        "\n",
        "ax10.set_title('Dropoff Days')\n",
        "ax = sns.countplot(x ='dropoff_hour', data = data, ax = ax10)"
      ],
      "metadata": {
        "trusted": true,
        "colab": {
          "base_uri": "https://localhost:8080/",
          "height": 355
        },
        "id": "2YMpeawGdzbZ",
        "outputId": "0f893579-8eda-4b44-ef2c-cb2400fd1e08"
      },
      "execution_count": 41,
      "outputs": [
        {
          "output_type": "display_data",
          "data": {
            "text/plain": [
              "<Figure size 1440x360 with 2 Axes>"
            ],
            "image/png": "[encoded data removed]"
          },
          "metadata": {
            "needs_background": "light"
          }
        }
      ]
    },
    {
      "cell_type": "markdown",
      "source": [
        "# Viajes por hora del día"
      ],
      "metadata": {
        "id": "ohWcfIfwdzba"
      }
    },
    {
      "cell_type": "code",
      "source": [
        "figure ,(ax3,ax4) = plt.subplots(ncols = 2, figsize=(20,6))\n",
        "ax3.set_title('Pickup Time of Day')\n",
        "ax = sns.countplot(x ='pickup_timeofday', data=data,ax = ax3)\n",
        "\n",
        "ax4.set_title('Dropoff Time of Day')\n",
        "ax = sns.countplot(x = 'dropoff_timeofday', data = data, ax=ax4)"
      ],
      "metadata": {
        "trusted": true,
        "colab": {
          "base_uri": "https://localhost:8080/",
          "height": 410
        },
        "id": "Dlv4y9n4dzbb",
        "outputId": "0dea8924-35be-4808-e744-2838e9fab3be"
      },
      "execution_count": 42,
      "outputs": [
        {
          "output_type": "display_data",
          "data": {
            "text/plain": [
              "<Figure size 1440x432 with 2 Axes>"
            ],
            "image/png": "[encoded data removed]"
          },
          "metadata": {
            "needs_background": "light"
          }
        }
      ]
    },
    {
      "cell_type": "markdown",
      "source": [
        "#  Viajes por mes"
      ],
      "metadata": {
        "id": "C0zTiNJQdzbb"
      }
    },
    {
      "cell_type": "code",
      "source": [
        "figure,(ax11,ax12) = plt.subplots(ncols = 2, figsize=(20,5))\n",
        "ax11.set_title('Pickup_month')\n",
        "ax = sns.countplot(x ='pickup_month', data = data, ax=ax11)\n",
        "ax12.set_title('Dropoff_Month')\n",
        "ax = sns.countplot(x ='dropoff_month', data = data, ax = ax12)"
      ],
      "metadata": {
        "trusted": true,
        "colab": {
          "base_uri": "https://localhost:8080/",
          "height": 355
        },
        "id": "rYfglpPvdzbc",
        "outputId": "e6e7ebf8-cda5-494c-e0f8-76df466758ce"
      },
      "execution_count": 43,
      "outputs": [
        {
          "output_type": "display_data",
          "data": {
            "text/plain": [
              "<Figure size 1440x360 with 2 Axes>"
            ],
            "image/png": "[encoded data removed]"
          },
          "metadata": {
            "needs_background": "light"
          }
        }
      ]
    },
    {
      "cell_type": "markdown",
      "source": [
        "# Duración de viajes por operador"
      ],
      "metadata": {
        "id": "17QRKlsudzbd"
      }
    },
    {
      "cell_type": "code",
      "source": [
        "sns.barplot(y = 'trip_duration', x = 'vendor_id', data = data,\n",
        "            estimator = np.mean)"
      ],
      "metadata": {
        "trusted": true,
        "colab": {
          "base_uri": "https://localhost:8080/",
          "height": 302
        },
        "id": "ZZGi404Ydzbe",
        "outputId": "4e3add7d-4c96-4fa9-d75f-8f925276afa9"
      },
      "execution_count": 44,
      "outputs": [
        {
          "output_type": "execute_result",
          "data": {
            "text/plain": [
              "<matplotlib.axes._subplots.AxesSubplot at 0x7f3e5eba1210>"
            ]
          },
          "metadata": {},
          "execution_count": 44
        },
        {
          "output_type": "display_data",
          "data": {
            "text/plain": [
              "<Figure size 432x288 with 1 Axes>"
            ],
            "image/png": "[encoded data removed]"
          },
          "metadata": {
            "needs_background": "light"
          }
        }
      ]
    },
    {
      "cell_type": "code",
      "source": [
        "sns.catplot( y = 'trip_duration',x = 'store_and_fwd_flag', data = data, kind ='strip')"
      ],
      "metadata": {
        "trusted": true,
        "colab": {
          "base_uri": "https://localhost:8080/",
          "height": 386
        },
        "id": "Gc8MMYyZdzbe",
        "outputId": "f26ea757-ae72-4a9b-c763-8ecaf04a294d"
      },
      "execution_count": 45,
      "outputs": [
        {
          "output_type": "execute_result",
          "data": {
            "text/plain": [
              "<seaborn.axisgrid.FacetGrid at 0x7f3e5eba1c10>"
            ]
          },
          "metadata": {},
          "execution_count": 45
        },
        {
          "output_type": "display_data",
          "data": {
            "text/plain": [
              "<Figure size 360x360 with 1 Axes>"
            ],
            "image/png": "[encoded data removed]"
          },
          "metadata": {
            "needs_background": "light"
          }
        }
      ]
    },
    {
      "cell_type": "code",
      "source": [
        "sns.catplot(y = 'trip_duration', x ='passenger_count', data = data , kind = 'strip')"
      ],
      "metadata": {
        "trusted": true,
        "colab": {
          "base_uri": "https://localhost:8080/",
          "height": 386
        },
        "id": "jpykeBbydzbf",
        "outputId": "ace00191-8d86-4e50-a17c-b72853931478"
      },
      "execution_count": 46,
      "outputs": [
        {
          "output_type": "execute_result",
          "data": {
            "text/plain": [
              "<seaborn.axisgrid.FacetGrid at 0x7f3e5ef13850>"
            ]
          },
          "metadata": {},
          "execution_count": 46
        },
        {
          "output_type": "display_data",
          "data": {
            "text/plain": [
              "<Figure size 360x360 with 1 Axes>"
            ],
            "image/png": "[encoded data removed]"
          },
          "metadata": {
            "needs_background": "light"
          }
        }
      ]
    },
    {
      "cell_type": "code",
      "source": [
        "sns.lineplot(x = 'pickup_hour', y = 'trip_duration', data = data)"
      ],
      "metadata": {
        "trusted": true,
        "colab": {
          "base_uri": "https://localhost:8080/",
          "height": 302
        },
        "id": "BWjOqBf9dzbg",
        "outputId": "e0e74a85-1686-4103-f275-be81e58cdc63"
      },
      "execution_count": 47,
      "outputs": [
        {
          "output_type": "execute_result",
          "data": {
            "text/plain": [
              "<matplotlib.axes._subplots.AxesSubplot at 0x7f3e5efe4050>"
            ]
          },
          "metadata": {},
          "execution_count": 47
        },
        {
          "output_type": "display_data",
          "data": {
            "text/plain": [
              "<Figure size 432x288 with 1 Axes>"
            ],
            "image/png": "[encoded data removed]"
          },
          "metadata": {
            "needs_background": "light"
          }
        }
      ]
    },
    {
      "cell_type": "code",
      "source": [
        "sns.barplot(y = 'distance', x  ='vendor_id', data = data, estimator = np.mean)"
      ],
      "metadata": {
        "trusted": true,
        "colab": {
          "base_uri": "https://localhost:8080/",
          "height": 302
        },
        "id": "V1QcNPuLdzbh",
        "outputId": "8082eb3b-8fb6-47f6-c6a3-eb5abe95db1e"
      },
      "execution_count": 48,
      "outputs": [
        {
          "output_type": "execute_result",
          "data": {
            "text/plain": [
              "<matplotlib.axes._subplots.AxesSubplot at 0x7f3e5deb50d0>"
            ]
          },
          "metadata": {},
          "execution_count": 48
        },
        {
          "output_type": "display_data",
          "data": {
            "text/plain": [
              "<Figure size 432x288 with 1 Axes>"
            ],
            "image/png": "[encoded data removed]"
          },
          "metadata": {
            "needs_background": "light"
          }
        }
      ]
    },
    {
      "cell_type": "code",
      "source": [
        "sns.catplot(y = 'distance', x='store_and_fwd_flag', data = data, kind='strip')"
      ],
      "metadata": {
        "trusted": true,
        "colab": {
          "base_uri": "https://localhost:8080/",
          "height": 386
        },
        "id": "A9fyq3iqdzbh",
        "outputId": "4236e434-22d2-4f77-df55-878ad4dfa725"
      },
      "execution_count": 49,
      "outputs": [
        {
          "output_type": "execute_result",
          "data": {
            "text/plain": [
              "<seaborn.axisgrid.FacetGrid at 0x7f3e5eb324d0>"
            ]
          },
          "metadata": {},
          "execution_count": 49
        },
        {
          "output_type": "display_data",
          "data": {
            "text/plain": [
              "<Figure size 360x360 with 1 Axes>"
            ],
            "image/png": "[encoded data removed]"
          },
          "metadata": {
            "needs_background": "light"
          }
        }
      ]
    },
    {
      "cell_type": "code",
      "source": [
        "sns.catplot(x ='pickup_day_no', y='distance', data = data)"
      ],
      "metadata": {
        "trusted": true,
        "colab": {
          "base_uri": "https://localhost:8080/",
          "height": 386
        },
        "id": "tx1iCYhodzbi",
        "outputId": "a1e8c20a-0aa7-4743-8b59-0ef96f1be423"
      },
      "execution_count": 50,
      "outputs": [
        {
          "output_type": "execute_result",
          "data": {
            "text/plain": [
              "<seaborn.axisgrid.FacetGrid at 0x7f3e5eeaf0d0>"
            ]
          },
          "metadata": {},
          "execution_count": 50
        },
        {
          "output_type": "display_data",
          "data": {
            "text/plain": [
              "<Figure size 360x360 with 1 Axes>"
            ],
            "image/png": "[encoded data removed]"
          },
          "metadata": {
            "needs_background": "light"
          }
        }
      ]
    },
    {
      "cell_type": "code",
      "source": [
        "sns.lineplot(x ='pickup_day_no', y='distance', data = data)"
      ],
      "metadata": {
        "trusted": true,
        "colab": {
          "base_uri": "https://localhost:8080/",
          "height": 302
        },
        "id": "s6Wc0T6bdzbj",
        "outputId": "d8fb97c6-d611-4468-a3d1-134c5a5367fa"
      },
      "execution_count": 51,
      "outputs": [
        {
          "output_type": "execute_result",
          "data": {
            "text/plain": [
              "<matplotlib.axes._subplots.AxesSubplot at 0x7f3e5a9611d0>"
            ]
          },
          "metadata": {},
          "execution_count": 51
        },
        {
          "output_type": "display_data",
          "data": {
            "text/plain": [
              "<Figure size 432x288 with 1 Axes>"
            ],
            "image/png": "[encoded data removed]"
          },
          "metadata": {
            "needs_background": "light"
          }
        }
      ]
    },
    {
      "cell_type": "code",
      "source": [
        "sns.relplot(y = data.distance, x= 'trip_duration', data = data)"
      ],
      "metadata": {
        "trusted": true,
        "colab": {
          "base_uri": "https://localhost:8080/",
          "height": 386
        },
        "id": "6CUy7Ywudzbj",
        "outputId": "53205ab0-033c-4a37-a6d5-401ffa6899f4"
      },
      "execution_count": 52,
      "outputs": [
        {
          "output_type": "execute_result",
          "data": {
            "text/plain": [
              "<seaborn.axisgrid.FacetGrid at 0x7f3e5b738350>"
            ]
          },
          "metadata": {},
          "execution_count": 52
        },
        {
          "output_type": "display_data",
          "data": {
            "text/plain": [
              "<Figure size 360x360 with 1 Axes>"
            ],
            "image/png": "[encoded data removed]"
          },
          "metadata": {
            "needs_background": "light"
          }
        }
      ]
    },
    {
      "cell_type": "code",
      "source": [
        "data[data.distance==0].head()"
      ],
      "metadata": {
        "trusted": true,
        "colab": {
          "base_uri": "https://localhost:8080/",
          "height": 386
        },
        "id": "qcRuUauQdzbk",
        "outputId": "56721c38-ac95-4569-b653-bc1db93e8f84"
      },
      "execution_count": 53,
      "outputs": [
        {
          "output_type": "execute_result",
          "data": {
            "text/plain": [
              "            id  vendor_id     pickup_datetime    dropoff_datetime  \\\n",
              "159  id0442648          2 2016-01-01 00:30:00 2016-01-01 00:58:00   \n",
              "371  id3434741          1 2016-01-01 00:58:00 2016-01-01 00:58:00   \n",
              "504  id2018035          1 2016-01-01 01:17:00 2016-01-01 01:18:00   \n",
              "586  id0230631          2 2016-01-01 01:30:00 2016-01-01 02:05:00   \n",
              "632  id0844498          2 2016-01-01 01:36:00 2016-01-01 01:51:00   \n",
              "\n",
              "     passenger_count  pickup_longitude  pickup_latitude  dropoff_longitude  \\\n",
              "159                1        -73.946167        40.750908         -73.946167   \n",
              "371                1        -74.316406        40.529366         -74.316406   \n",
              "504                3        -74.003632        40.784061         -74.003632   \n",
              "586                1        -73.916946        40.837261         -73.916946   \n",
              "632                1        -73.989822        40.735302         -73.989822   \n",
              "\n",
              "     dropoff_latitude store_and_fwd_flag  ...  dropoff_day  pickup_day_no  \\\n",
              "159         40.750908                  N  ...       Friday              4   \n",
              "371         40.529366                  N  ...       Friday              4   \n",
              "504         40.784061                  N  ...       Friday              4   \n",
              "586         40.837261                  N  ...       Friday              4   \n",
              "632         40.735302                  N  ...       Friday              4   \n",
              "\n",
              "     droff_day_no  pickup_hour dropoff_hour pickup_month  dropoff_month  \\\n",
              "159             4            0            0            1              1   \n",
              "371             4            0            0            1              1   \n",
              "504             4            1            1            1              1   \n",
              "586             4            1            2            1              1   \n",
              "632             4            1            1            1              1   \n",
              "\n",
              "     pickup_timeofday  dropoff_timeofday  distance  \n",
              "159             Night              Night       0.0  \n",
              "371             Night              Night       0.0  \n",
              "504             Night              Night       0.0  \n",
              "586             Night              Night       0.0  \n",
              "632             Night              Night       0.0  \n",
              "\n",
              "[5 rows x 25 columns]"
            ],
            "text/html": [
              "\n",
              "  <div id=\"df-df135262-fb86-45d7-8258-ece7de6667c2\">\n",
              "    <div class=\"colab-df-container\">\n",
              "      <div>\n",
              "<style scoped>\n",
              "    .dataframe tbody tr th:only-of-type {\n",
              "        vertical-align: middle;\n",
              "    }\n",
              "\n",
              "    .dataframe tbody tr th {\n",
              "        vertical-align: top;\n",
              "    }\n",
              "\n",
              "    .dataframe thead th {\n",
              "        text-align: right;\n",
              "    }\n",
              "</style>\n",
              "<table border=\"1\" class=\"dataframe\">\n",
              "  <thead>\n",
              "    <tr style=\"text-align: right;\">\n",
              "      <th></th>\n",
              "      <th>id</th>\n",
              "      <th>vendor_id</th>\n",
              "      <th>pickup_datetime</th>\n",
              "      <th>dropoff_datetime</th>\n",
              "      <th>passenger_count</th>\n",
              "      <th>pickup_longitude</th>\n",
              "      <th>pickup_latitude</th>\n",
              "      <th>dropoff_longitude</th>\n",
              "      <th>dropoff_latitude</th>\n",
              "      <th>store_and_fwd_flag</th>\n",
              "      <th>...</th>\n",
              "      <th>dropoff_day</th>\n",
              "      <th>pickup_day_no</th>\n",
              "      <th>droff_day_no</th>\n",
              "      <th>pickup_hour</th>\n",
              "      <th>dropoff_hour</th>\n",
              "      <th>pickup_month</th>\n",
              "      <th>dropoff_month</th>\n",
              "      <th>pickup_timeofday</th>\n",
              "      <th>dropoff_timeofday</th>\n",
              "      <th>distance</th>\n",
              "    </tr>\n",
              "  </thead>\n",
              "  <tbody>\n",
              "    <tr>\n",
              "      <th>159</th>\n",
              "      <td>id0442648</td>\n",
              "      <td>2</td>\n",
              "      <td>2016-01-01 00:30:00</td>\n",
              "      <td>2016-01-01 00:58:00</td>\n",
              "      <td>1</td>\n",
              "      <td>-73.946167</td>\n",
              "      <td>40.750908</td>\n",
              "      <td>-73.946167</td>\n",
              "      <td>40.750908</td>\n",
              "      <td>N</td>\n",
              "      <td>...</td>\n",
              "      <td>Friday</td>\n",
              "      <td>4</td>\n",
              "      <td>4</td>\n",
              "      <td>0</td>\n",
              "      <td>0</td>\n",
              "      <td>1</td>\n",
              "      <td>1</td>\n",
              "      <td>Night</td>\n",
              "      <td>Night</td>\n",
              "      <td>0.0</td>\n",
              "    </tr>\n",
              "    <tr>\n",
              "      <th>371</th>\n",
              "      <td>id3434741</td>\n",
              "      <td>1</td>\n",
              "      <td>2016-01-01 00:58:00</td>\n",
              "      <td>2016-01-01 00:58:00</td>\n",
              "      <td>1</td>\n",
              "      <td>-74.316406</td>\n",
              "      <td>40.529366</td>\n",
              "      <td>-74.316406</td>\n",
              "      <td>40.529366</td>\n",
              "      <td>N</td>\n",
              "      <td>...</td>\n",
              "      <td>Friday</td>\n",
              "      <td>4</td>\n",
              "      <td>4</td>\n",
              "      <td>0</td>\n",
              "      <td>0</td>\n",
              "      <td>1</td>\n",
              "      <td>1</td>\n",
              "      <td>Night</td>\n",
              "      <td>Night</td>\n",
              "      <td>0.0</td>\n",
              "    </tr>\n",
              "    <tr>\n",
              "      <th>504</th>\n",
              "      <td>id2018035</td>\n",
              "      <td>1</td>\n",
              "      <td>2016-01-01 01:17:00</td>\n",
              "      <td>2016-01-01 01:18:00</td>\n",
              "      <td>3</td>\n",
              "      <td>-74.003632</td>\n",
              "      <td>40.784061</td>\n",
              "      <td>-74.003632</td>\n",
              "      <td>40.784061</td>\n",
              "      <td>N</td>\n",
              "      <td>...</td>\n",
              "      <td>Friday</td>\n",
              "      <td>4</td>\n",
              "      <td>4</td>\n",
              "      <td>1</td>\n",
              "      <td>1</td>\n",
              "      <td>1</td>\n",
              "      <td>1</td>\n",
              "      <td>Night</td>\n",
              "      <td>Night</td>\n",
              "      <td>0.0</td>\n",
              "    </tr>\n",
              "    <tr>\n",
              "      <th>586</th>\n",
              "      <td>id0230631</td>\n",
              "      <td>2</td>\n",
              "      <td>2016-01-01 01:30:00</td>\n",
              "      <td>2016-01-01 02:05:00</td>\n",
              "      <td>1</td>\n",
              "      <td>-73.916946</td>\n",
              "      <td>40.837261</td>\n",
              "      <td>-73.916946</td>\n",
              "      <td>40.837261</td>\n",
              "      <td>N</td>\n",
              "      <td>...</td>\n",
              "      <td>Friday</td>\n",
              "      <td>4</td>\n",
              "      <td>4</td>\n",
              "      <td>1</td>\n",
              "      <td>2</td>\n",
              "      <td>1</td>\n",
              "      <td>1</td>\n",
              "      <td>Night</td>\n",
              "      <td>Night</td>\n",
              "      <td>0.0</td>\n",
              "    </tr>\n",
              "    <tr>\n",
              "      <th>632</th>\n",
              "      <td>id0844498</td>\n",
              "      <td>2</td>\n",
              "      <td>2016-01-01 01:36:00</td>\n",
              "      <td>2016-01-01 01:51:00</td>\n",
              "      <td>1</td>\n",
              "      <td>-73.989822</td>\n",
              "      <td>40.735302</td>\n",
              "      <td>-73.989822</td>\n",
              "      <td>40.735302</td>\n",
              "      <td>N</td>\n",
              "      <td>...</td>\n",
              "      <td>Friday</td>\n",
              "      <td>4</td>\n",
              "      <td>4</td>\n",
              "      <td>1</td>\n",
              "      <td>1</td>\n",
              "      <td>1</td>\n",
              "      <td>1</td>\n",
              "      <td>Night</td>\n",
              "      <td>Night</td>\n",
              "      <td>0.0</td>\n",
              "    </tr>\n",
              "  </tbody>\n",
              "</table>\n",
              "<p>5 rows × 25 columns</p>\n",
              "</div>\n",
              "      <button class=\"colab-df-convert\" onclick=\"convertToInteractive('df-df135262-fb86-45d7-8258-ece7de6667c2')\"\n",
              "              title=\"Convert this dataframe to an interactive table.\"\n",
              "              style=\"display:none;\">\n",
              "        \n",
              "  <svg xmlns=\"http://www.w3.org/2000/svg\" height=\"24px\"viewBox=\"0 0 24 24\"\n",
              "       width=\"24px\">\n",
              "    <path d=\"M0 0h24v24H0V0z\" fill=\"none\"/>\n",
              "    <path d=\"M18.56 5.44l.94 2.06.94-2.06 2.06-.94-2.06-.94-.94-2.06-.94 2.06-2.06.94zm-11 1L8.5 8.5l.94-2.06 2.06-.94-2.06-.94L8.5 2.5l-.94 2.06-2.06.94zm10 10l.94 2.06.94-2.06 2.06-.94-2.06-.94-.94-2.06-.94 2.06-2.06.94z\"/><path d=\"M17.41 7.96l-1.37-1.37c-.4-.4-.92-.59-1.43-.59-.52 0-1.04.2-1.43.59L10.3 9.45l-7.72 7.72c-.78.78-.78 2.05 0 2.83L4 21.41c.39.39.9.59 1.41.59.51 0 1.02-.2 1.41-.59l7.78-7.78 2.81-2.81c.8-.78.8-2.07 0-2.86zM5.41 20L4 18.59l7.72-7.72 1.47 1.35L5.41 20z\"/>\n",
              "  </svg>\n",
              "      </button>\n",
              "      \n",
              "  <style>\n",
              "    .colab-df-container {\n",
              "      display:flex;\n",
              "      flex-wrap:wrap;\n",
              "      gap: 12px;\n",
              "    }\n",
              "\n",
              "    .colab-df-convert {\n",
              "      background-color: #E8F0FE;\n",
              "      border: none;\n",
              "      border-radius: 50%;\n",
              "      cursor: pointer;\n",
              "      display: none;\n",
              "      fill: #1967D2;\n",
              "      height: 32px;\n",
              "      padding: 0 0 0 0;\n",
              "      width: 32px;\n",
              "    }\n",
              "\n",
              "    .colab-df-convert:hover {\n",
              "      background-color: #E2EBFA;\n",
              "      box-shadow: 0px 1px 2px rgba(60, 64, 67, 0.3), 0px 1px 3px 1px rgba(60, 64, 67, 0.15);\n",
              "      fill: #174EA6;\n",
              "    }\n",
              "\n",
              "    [theme=dark] .colab-df-convert {\n",
              "      background-color: #3B4455;\n",
              "      fill: #D2E3FC;\n",
              "    }\n",
              "\n",
              "    [theme=dark] .colab-df-convert:hover {\n",
              "      background-color: #434B5C;\n",
              "      box-shadow: 0px 1px 3px 1px rgba(0, 0, 0, 0.15);\n",
              "      filter: drop-shadow(0px 1px 2px rgba(0, 0, 0, 0.3));\n",
              "      fill: #FFFFFF;\n",
              "    }\n",
              "  </style>\n",
              "\n",
              "      <script>\n",
              "        const buttonEl =\n",
              "          document.querySelector('#df-df135262-fb86-45d7-8258-ece7de6667c2 button.colab-df-convert');\n",
              "        buttonEl.style.display =\n",
              "          google.colab.kernel.accessAllowed ? 'block' : 'none';\n",
              "\n",
              "        async function convertToInteractive(key) {\n",
              "          const element = document.querySelector('#df-df135262-fb86-45d7-8258-ece7de6667c2');\n",
              "          const dataTable =\n",
              "            await google.colab.kernel.invokeFunction('convertToInteractive',\n",
              "                                                     [key], {});\n",
              "          if (!dataTable) return;\n",
              "\n",
              "          const docLinkHtml = 'Like what you see? Visit the ' +\n",
              "            '<a target=\"_blank\" href=https://colab.research.google.com/notebooks/data_table.ipynb>data table notebook</a>'\n",
              "            + ' to learn more about interactive tables.';\n",
              "          element.innerHTML = '';\n",
              "          dataTable['output_type'] = 'display_data';\n",
              "          await google.colab.output.renderOutput(dataTable, element);\n",
              "          const docLink = document.createElement('div');\n",
              "          docLink.innerHTML = docLinkHtml;\n",
              "          element.appendChild(docLink);\n",
              "        }\n",
              "      </script>\n",
              "    </div>\n",
              "  </div>\n",
              "  "
            ]
          },
          "metadata": {},
          "execution_count": 53
        }
      ]
    },
    {
      "cell_type": "code",
      "source": [
        "data[data.distance>0.5].count()"
      ],
      "metadata": {
        "trusted": true,
        "colab": {
          "base_uri": "https://localhost:8080/"
        },
        "id": "nApaXIYSdzbl",
        "outputId": "df518c47-d290-4544-f0a2-d30aa56345ff"
      },
      "execution_count": 54,
      "outputs": [
        {
          "output_type": "execute_result",
          "data": {
            "text/plain": [
              "id                    38012\n",
              "vendor_id             38012\n",
              "pickup_datetime       38012\n",
              "dropoff_datetime      38012\n",
              "passenger_count       38012\n",
              "pickup_longitude      38012\n",
              "pickup_latitude       38012\n",
              "dropoff_longitude     38012\n",
              "dropoff_latitude      38012\n",
              "store_and_fwd_flag    38012\n",
              "gc_distance           38012\n",
              "trip_duration         38012\n",
              "google_distance       37472\n",
              "google_duration       37472\n",
              "pickup_day            38012\n",
              "dropoff_day           38012\n",
              "pickup_day_no         38012\n",
              "droff_day_no          38012\n",
              "pickup_hour           38012\n",
              "dropoff_hour          38012\n",
              "pickup_month          38012\n",
              "dropoff_month         38012\n",
              "pickup_timeofday      38012\n",
              "dropoff_timeofday     38012\n",
              "distance              38012\n",
              "dtype: int64"
            ]
          },
          "metadata": {},
          "execution_count": 54
        }
      ]
    },
    {
      "cell_type": "code",
      "source": [
        "for col in data:\n",
        "    print(f\"{col}:{data[col].unique()}\")"
      ],
      "metadata": {
        "trusted": true,
        "colab": {
          "base_uri": "https://localhost:8080/"
        },
        "id": "Znk_fBo2dzbm",
        "outputId": "50832d6d-197e-4ba3-c3b7-c29bbb83aa37"
      },
      "execution_count": 55,
      "outputs": [
        {
          "output_type": "stream",
          "name": "stdout",
          "text": [
            "id:['id0190469' 'id1665586' 'id1078247' ... 'id3324326' 'id3410388'\n",
            " 'id0044708']\n",
            "vendor_id:[2 1]\n",
            "pickup_datetime:['2016-01-01T00:00:00.000000000' '2016-01-01T00:01:00.000000000'\n",
            " '2016-01-01T00:02:00.000000000' ... '2016-01-08T21:54:00.000000000'\n",
            " '2016-01-08T21:55:00.000000000' '2016-01-08T21:56:00.000000000']\n",
            "dropoff_datetime:['2016-01-01T00:14:00.000000000' '2016-01-01T00:22:00.000000000'\n",
            " '2016-01-01T00:03:00.000000000' ... '2016-01-08T22:04:00.000000000'\n",
            " '2016-01-08T22:12:00.000000000' '2016-01-08T22:14:00.000000000']\n",
            "passenger_count:[5 1 2 3 4 6]\n",
            "pickup_longitude:[-73.98174286 -73.98508453 -73.97333527 ... -73.99565125 -74.02311707\n",
            " -73.95082092]\n",
            "pickup_latitude:[40.71915817 40.74716568 40.76407242 ... 40.75350189 40.73135757\n",
            " 40.7230835 ]\n",
            "dropoff_longitude:[-73.93882751 -73.95803833 -73.97485352 ... -74.0306015  -73.93953705\n",
            " -73.94979095]\n",
            "dropoff_latitude:[40.82918167 40.71749115 40.76173401 ... 40.75825882 40.73993301\n",
            " 40.72644424]\n",
            "store_and_fwd_flag:['N' 'Y']\n",
            "gc_distance:[7.92882961 2.49248213 0.18009874 ... 1.46001777 0.30859276 1.59083972]\n",
            "trip_duration:[  849  1294   114 ...  4505 84456  2857]\n",
            "google_distance:[15309.  9970.   289. ...  9974.  9548.  8335.]\n",
            "google_duration:[1109. 1277.   79. ... 2615. 2592. 3164.]\n",
            "pickup_day:['Friday' 'Saturday' 'Sunday' 'Monday' 'Tuesday' 'Wednesday' 'Thursday']\n",
            "dropoff_day:['Friday' 'Saturday' 'Sunday' 'Monday' 'Tuesday' 'Wednesday' 'Thursday']\n",
            "pickup_day_no:[4 5 6 0 1 2 3]\n",
            "droff_day_no:[4 5 6 0 1 2 3]\n",
            "pickup_hour:[ 0  1  2  3  4  5  6  7  8  9 10 11 12 13 14 15 16 17 18 19 20 21 22 23]\n",
            "dropoff_hour:[ 0  1  2  3  4  5  6  7  8  9 10 11 12 13 14 15 16 17 18 19 20 21 22 23]\n",
            "pickup_month:[1]\n",
            "dropoff_month:[1]\n",
            "pickup_timeofday:['Night' 'morning' 'Afternoon' 'Evening']\n",
            "dropoff_timeofday:['Night' 'morning' 'Afternoon' 'Evening']\n",
            "distance:[12.75663856  4.01013682  0.28975967 ...  2.34901199  0.49649281\n",
            "  2.55949137]\n"
          ]
        }
      ]
    },
    {
      "cell_type": "markdown",
      "source": [
        "# Predicción de la distancia de viajes por día"
      ],
      "metadata": {
        "id": "htOGPaijdzbm"
      }
    },
    {
      "cell_type": "code",
      "source": [
        "data.dtypes"
      ],
      "metadata": {
        "trusted": true,
        "colab": {
          "base_uri": "https://localhost:8080/"
        },
        "id": "s34b0Xbudzbn",
        "outputId": "f3388363-7401-4685-f2b4-175579d6837f"
      },
      "execution_count": 56,
      "outputs": [
        {
          "output_type": "execute_result",
          "data": {
            "text/plain": [
              "id                            object\n",
              "vendor_id                      int64\n",
              "pickup_datetime       datetime64[ns]\n",
              "dropoff_datetime      datetime64[ns]\n",
              "passenger_count                int64\n",
              "pickup_longitude             float64\n",
              "pickup_latitude              float64\n",
              "dropoff_longitude            float64\n",
              "dropoff_latitude             float64\n",
              "store_and_fwd_flag            object\n",
              "gc_distance                  float64\n",
              "trip_duration                  int64\n",
              "google_distance              float64\n",
              "google_duration              float64\n",
              "pickup_day                    object\n",
              "dropoff_day                   object\n",
              "pickup_day_no                  int64\n",
              "droff_day_no                   int64\n",
              "pickup_hour                    int64\n",
              "dropoff_hour                   int64\n",
              "pickup_month                   int64\n",
              "dropoff_month                  int64\n",
              "pickup_timeofday              object\n",
              "dropoff_timeofday             object\n",
              "distance                     float64\n",
              "dtype: object"
            ]
          },
          "metadata": {},
          "execution_count": 56
        }
      ]
    },
    {
      "cell_type": "code",
      "source": [
        "data = data[['vendor_id','passenger_count','pickup_latitude','dropoff_latitude','trip_duration','pickup_day','dropoff_day','distance']]"
      ],
      "metadata": {
        "trusted": true,
        "id": "MzmW0VVWdzbo"
      },
      "execution_count": 57,
      "outputs": []
    },
    {
      "cell_type": "code",
      "source": [
        "data.sample(2)"
      ],
      "metadata": {
        "trusted": true,
        "colab": {
          "base_uri": "https://localhost:8080/",
          "height": 112
        },
        "id": "T66jnIi1dzbp",
        "outputId": "c4e899a7-4492-41de-8830-e81bb3063a4b"
      },
      "execution_count": 58,
      "outputs": [
        {
          "output_type": "execute_result",
          "data": {
            "text/plain": [
              "       vendor_id  passenger_count  pickup_latitude  dropoff_latitude  \\\n",
              "6346           1                1        40.754681         40.756603   \n",
              "19912          2                1        40.775059         40.764606   \n",
              "\n",
              "       trip_duration pickup_day dropoff_day  distance  \n",
              "6346             301   Saturday    Saturday  0.681524  \n",
              "19912            346    Tuesday     Tuesday  1.658733  "
            ],
            "text/html": [
              "\n",
              "  <div id=\"df-a8eac31b-ee0c-49f7-aff3-5a8fd07488d0\">\n",
              "    <div class=\"colab-df-container\">\n",
              "      <div>\n",
              "<style scoped>\n",
              "    .dataframe tbody tr th:only-of-type {\n",
              "        vertical-align: middle;\n",
              "    }\n",
              "\n",
              "    .dataframe tbody tr th {\n",
              "        vertical-align: top;\n",
              "    }\n",
              "\n",
              "    .dataframe thead th {\n",
              "        text-align: right;\n",
              "    }\n",
              "</style>\n",
              "<table border=\"1\" class=\"dataframe\">\n",
              "  <thead>\n",
              "    <tr style=\"text-align: right;\">\n",
              "      <th></th>\n",
              "      <th>vendor_id</th>\n",
              "      <th>passenger_count</th>\n",
              "      <th>pickup_latitude</th>\n",
              "      <th>dropoff_latitude</th>\n",
              "      <th>trip_duration</th>\n",
              "      <th>pickup_day</th>\n",
              "      <th>dropoff_day</th>\n",
              "      <th>distance</th>\n",
              "    </tr>\n",
              "  </thead>\n",
              "  <tbody>\n",
              "    <tr>\n",
              "      <th>6346</th>\n",
              "      <td>1</td>\n",
              "      <td>1</td>\n",
              "      <td>40.754681</td>\n",
              "      <td>40.756603</td>\n",
              "      <td>301</td>\n",
              "      <td>Saturday</td>\n",
              "      <td>Saturday</td>\n",
              "      <td>0.681524</td>\n",
              "    </tr>\n",
              "    <tr>\n",
              "      <th>19912</th>\n",
              "      <td>2</td>\n",
              "      <td>1</td>\n",
              "      <td>40.775059</td>\n",
              "      <td>40.764606</td>\n",
              "      <td>346</td>\n",
              "      <td>Tuesday</td>\n",
              "      <td>Tuesday</td>\n",
              "      <td>1.658733</td>\n",
              "    </tr>\n",
              "  </tbody>\n",
              "</table>\n",
              "</div>\n",
              "      <button class=\"colab-df-convert\" onclick=\"convertToInteractive('df-a8eac31b-ee0c-49f7-aff3-5a8fd07488d0')\"\n",
              "              title=\"Convert this dataframe to an interactive table.\"\n",
              "              style=\"display:none;\">\n",
              "        \n",
              "  <svg xmlns=\"http://www.w3.org/2000/svg\" height=\"24px\"viewBox=\"0 0 24 24\"\n",
              "       width=\"24px\">\n",
              "    <path d=\"M0 0h24v24H0V0z\" fill=\"none\"/>\n",
              "    <path d=\"M18.56 5.44l.94 2.06.94-2.06 2.06-.94-2.06-.94-.94-2.06-.94 2.06-2.06.94zm-11 1L8.5 8.5l.94-2.06 2.06-.94-2.06-.94L8.5 2.5l-.94 2.06-2.06.94zm10 10l.94 2.06.94-2.06 2.06-.94-2.06-.94-.94-2.06-.94 2.06-2.06.94z\"/><path d=\"M17.41 7.96l-1.37-1.37c-.4-.4-.92-.59-1.43-.59-.52 0-1.04.2-1.43.59L10.3 9.45l-7.72 7.72c-.78.78-.78 2.05 0 2.83L4 21.41c.39.39.9.59 1.41.59.51 0 1.02-.2 1.41-.59l7.78-7.78 2.81-2.81c.8-.78.8-2.07 0-2.86zM5.41 20L4 18.59l7.72-7.72 1.47 1.35L5.41 20z\"/>\n",
              "  </svg>\n",
              "      </button>\n",
              "      \n",
              "  <style>\n",
              "    .colab-df-container {\n",
              "      display:flex;\n",
              "      flex-wrap:wrap;\n",
              "      gap: 12px;\n",
              "    }\n",
              "\n",
              "    .colab-df-convert {\n",
              "      background-color: #E8F0FE;\n",
              "      border: none;\n",
              "      border-radius: 50%;\n",
              "      cursor: pointer;\n",
              "      display: none;\n",
              "      fill: #1967D2;\n",
              "      height: 32px;\n",
              "      padding: 0 0 0 0;\n",
              "      width: 32px;\n",
              "    }\n",
              "\n",
              "    .colab-df-convert:hover {\n",
              "      background-color: #E2EBFA;\n",
              "      box-shadow: 0px 1px 2px rgba(60, 64, 67, 0.3), 0px 1px 3px 1px rgba(60, 64, 67, 0.15);\n",
              "      fill: #174EA6;\n",
              "    }\n",
              "\n",
              "    [theme=dark] .colab-df-convert {\n",
              "      background-color: #3B4455;\n",
              "      fill: #D2E3FC;\n",
              "    }\n",
              "\n",
              "    [theme=dark] .colab-df-convert:hover {\n",
              "      background-color: #434B5C;\n",
              "      box-shadow: 0px 1px 3px 1px rgba(0, 0, 0, 0.15);\n",
              "      filter: drop-shadow(0px 1px 2px rgba(0, 0, 0, 0.3));\n",
              "      fill: #FFFFFF;\n",
              "    }\n",
              "  </style>\n",
              "\n",
              "      <script>\n",
              "        const buttonEl =\n",
              "          document.querySelector('#df-a8eac31b-ee0c-49f7-aff3-5a8fd07488d0 button.colab-df-convert');\n",
              "        buttonEl.style.display =\n",
              "          google.colab.kernel.accessAllowed ? 'block' : 'none';\n",
              "\n",
              "        async function convertToInteractive(key) {\n",
              "          const element = document.querySelector('#df-a8eac31b-ee0c-49f7-aff3-5a8fd07488d0');\n",
              "          const dataTable =\n",
              "            await google.colab.kernel.invokeFunction('convertToInteractive',\n",
              "                                                     [key], {});\n",
              "          if (!dataTable) return;\n",
              "\n",
              "          const docLinkHtml = 'Like what you see? Visit the ' +\n",
              "            '<a target=\"_blank\" href=https://colab.research.google.com/notebooks/data_table.ipynb>data table notebook</a>'\n",
              "            + ' to learn more about interactive tables.';\n",
              "          element.innerHTML = '';\n",
              "          dataTable['output_type'] = 'display_data';\n",
              "          await google.colab.output.renderOutput(dataTable, element);\n",
              "          const docLink = document.createElement('div');\n",
              "          docLink.innerHTML = docLinkHtml;\n",
              "          element.appendChild(docLink);\n",
              "        }\n",
              "      </script>\n",
              "    </div>\n",
              "  </div>\n",
              "  "
            ]
          },
          "metadata": {},
          "execution_count": 58
        }
      ]
    },
    {
      "cell_type": "code",
      "source": [
        "data.replace({'Monday':1,'Tuesday':2,'Wednesday':3,'Thursday':4,'Friday':5,'Saturday':6,'Sunday':7},inplace=True)"
      ],
      "metadata": {
        "trusted": true,
        "id": "mDzGlDtldzbq"
      },
      "execution_count": 59,
      "outputs": []
    },
    {
      "cell_type": "code",
      "source": [
        "data.sample(2)"
      ],
      "metadata": {
        "trusted": true,
        "colab": {
          "base_uri": "https://localhost:8080/",
          "height": 112
        },
        "id": "3krw9_hfdzbr",
        "outputId": "351bde03-a686-4f16-cbdf-8788532a399a"
      },
      "execution_count": 60,
      "outputs": [
        {
          "output_type": "execute_result",
          "data": {
            "text/plain": [
              "       vendor_id  passenger_count  pickup_latitude  dropoff_latitude  \\\n",
              "14790          1                1        40.730709         40.709000   \n",
              "22172          1                1        40.752914         40.794624   \n",
              "\n",
              "       trip_duration  pickup_day  dropoff_day  distance  \n",
              "14790            307           1            1  2.461679  \n",
              "22172           1406           2            2  6.643088  "
            ],
            "text/html": [
              "\n",
              "  <div id=\"df-90fe8d93-e437-44e5-99ed-11098dd04cce\">\n",
              "    <div class=\"colab-df-container\">\n",
              "      <div>\n",
              "<style scoped>\n",
              "    .dataframe tbody tr th:only-of-type {\n",
              "        vertical-align: middle;\n",
              "    }\n",
              "\n",
              "    .dataframe tbody tr th {\n",
              "        vertical-align: top;\n",
              "    }\n",
              "\n",
              "    .dataframe thead th {\n",
              "        text-align: right;\n",
              "    }\n",
              "</style>\n",
              "<table border=\"1\" class=\"dataframe\">\n",
              "  <thead>\n",
              "    <tr style=\"text-align: right;\">\n",
              "      <th></th>\n",
              "      <th>vendor_id</th>\n",
              "      <th>passenger_count</th>\n",
              "      <th>pickup_latitude</th>\n",
              "      <th>dropoff_latitude</th>\n",
              "      <th>trip_duration</th>\n",
              "      <th>pickup_day</th>\n",
              "      <th>dropoff_day</th>\n",
              "      <th>distance</th>\n",
              "    </tr>\n",
              "  </thead>\n",
              "  <tbody>\n",
              "    <tr>\n",
              "      <th>14790</th>\n",
              "      <td>1</td>\n",
              "      <td>1</td>\n",
              "      <td>40.730709</td>\n",
              "      <td>40.709000</td>\n",
              "      <td>307</td>\n",
              "      <td>1</td>\n",
              "      <td>1</td>\n",
              "      <td>2.461679</td>\n",
              "    </tr>\n",
              "    <tr>\n",
              "      <th>22172</th>\n",
              "      <td>1</td>\n",
              "      <td>1</td>\n",
              "      <td>40.752914</td>\n",
              "      <td>40.794624</td>\n",
              "      <td>1406</td>\n",
              "      <td>2</td>\n",
              "      <td>2</td>\n",
              "      <td>6.643088</td>\n",
              "    </tr>\n",
              "  </tbody>\n",
              "</table>\n",
              "</div>\n",
              "      <button class=\"colab-df-convert\" onclick=\"convertToInteractive('df-90fe8d93-e437-44e5-99ed-11098dd04cce')\"\n",
              "              title=\"Convert this dataframe to an interactive table.\"\n",
              "              style=\"display:none;\">\n",
              "        \n",
              "  <svg xmlns=\"http://www.w3.org/2000/svg\" height=\"24px\"viewBox=\"0 0 24 24\"\n",
              "       width=\"24px\">\n",
              "    <path d=\"M0 0h24v24H0V0z\" fill=\"none\"/>\n",
              "    <path d=\"M18.56 5.44l.94 2.06.94-2.06 2.06-.94-2.06-.94-.94-2.06-.94 2.06-2.06.94zm-11 1L8.5 8.5l.94-2.06 2.06-.94-2.06-.94L8.5 2.5l-.94 2.06-2.06.94zm10 10l.94 2.06.94-2.06 2.06-.94-2.06-.94-.94-2.06-.94 2.06-2.06.94z\"/><path d=\"M17.41 7.96l-1.37-1.37c-.4-.4-.92-.59-1.43-.59-.52 0-1.04.2-1.43.59L10.3 9.45l-7.72 7.72c-.78.78-.78 2.05 0 2.83L4 21.41c.39.39.9.59 1.41.59.51 0 1.02-.2 1.41-.59l7.78-7.78 2.81-2.81c.8-.78.8-2.07 0-2.86zM5.41 20L4 18.59l7.72-7.72 1.47 1.35L5.41 20z\"/>\n",
              "  </svg>\n",
              "      </button>\n",
              "      \n",
              "  <style>\n",
              "    .colab-df-container {\n",
              "      display:flex;\n",
              "      flex-wrap:wrap;\n",
              "      gap: 12px;\n",
              "    }\n",
              "\n",
              "    .colab-df-convert {\n",
              "      background-color: #E8F0FE;\n",
              "      border: none;\n",
              "      border-radius: 50%;\n",
              "      cursor: pointer;\n",
              "      display: none;\n",
              "      fill: #1967D2;\n",
              "      height: 32px;\n",
              "      padding: 0 0 0 0;\n",
              "      width: 32px;\n",
              "    }\n",
              "\n",
              "    .colab-df-convert:hover {\n",
              "      background-color: #E2EBFA;\n",
              "      box-shadow: 0px 1px 2px rgba(60, 64, 67, 0.3), 0px 1px 3px 1px rgba(60, 64, 67, 0.15);\n",
              "      fill: #174EA6;\n",
              "    }\n",
              "\n",
              "    [theme=dark] .colab-df-convert {\n",
              "      background-color: #3B4455;\n",
              "      fill: #D2E3FC;\n",
              "    }\n",
              "\n",
              "    [theme=dark] .colab-df-convert:hover {\n",
              "      background-color: #434B5C;\n",
              "      box-shadow: 0px 1px 3px 1px rgba(0, 0, 0, 0.15);\n",
              "      filter: drop-shadow(0px 1px 2px rgba(0, 0, 0, 0.3));\n",
              "      fill: #FFFFFF;\n",
              "    }\n",
              "  </style>\n",
              "\n",
              "      <script>\n",
              "        const buttonEl =\n",
              "          document.querySelector('#df-90fe8d93-e437-44e5-99ed-11098dd04cce button.colab-df-convert');\n",
              "        buttonEl.style.display =\n",
              "          google.colab.kernel.accessAllowed ? 'block' : 'none';\n",
              "\n",
              "        async function convertToInteractive(key) {\n",
              "          const element = document.querySelector('#df-90fe8d93-e437-44e5-99ed-11098dd04cce');\n",
              "          const dataTable =\n",
              "            await google.colab.kernel.invokeFunction('convertToInteractive',\n",
              "                                                     [key], {});\n",
              "          if (!dataTable) return;\n",
              "\n",
              "          const docLinkHtml = 'Like what you see? Visit the ' +\n",
              "            '<a target=\"_blank\" href=https://colab.research.google.com/notebooks/data_table.ipynb>data table notebook</a>'\n",
              "            + ' to learn more about interactive tables.';\n",
              "          element.innerHTML = '';\n",
              "          dataTable['output_type'] = 'display_data';\n",
              "          await google.colab.output.renderOutput(dataTable, element);\n",
              "          const docLink = document.createElement('div');\n",
              "          docLink.innerHTML = docLinkHtml;\n",
              "          element.appendChild(docLink);\n",
              "        }\n",
              "      </script>\n",
              "    </div>\n",
              "  </div>\n",
              "  "
            ]
          },
          "metadata": {},
          "execution_count": 60
        }
      ]
    },
    {
      "cell_type": "code",
      "source": [
        "from sklearn.model_selection import train_test_split"
      ],
      "metadata": {
        "trusted": true,
        "id": "u3oR4yOldzbs"
      },
      "execution_count": 61,
      "outputs": []
    },
    {
      "cell_type": "code",
      "source": [
        "X = data.drop(['pickup_day','dropoff_day','distance'],axis='columns')\n",
        "y = data[['pickup_day','dropoff_day','distance']]"
      ],
      "metadata": {
        "trusted": true,
        "id": "oJQbkBZ1dzbt"
      },
      "execution_count": 62,
      "outputs": []
    },
    {
      "cell_type": "code",
      "source": [
        "X_train, X_test,y_train, y_test = train_test_split(X,y,test_size=0.2,random_state=5)"
      ],
      "metadata": {
        "trusted": true,
        "id": "QV4C6FG5dzbu"
      },
      "execution_count": 63,
      "outputs": []
    },
    {
      "cell_type": "code",
      "source": [
        "X_train[:4]"
      ],
      "metadata": {
        "trusted": true,
        "colab": {
          "base_uri": "https://localhost:8080/",
          "height": 175
        },
        "id": "_Oz20Avcdzbv",
        "outputId": "279fe10f-2e6b-4bb2-94cb-b3a03174273d"
      },
      "execution_count": 64,
      "outputs": [
        {
          "output_type": "execute_result",
          "data": {
            "text/plain": [
              "       vendor_id  passenger_count  pickup_latitude  dropoff_latitude  \\\n",
              "9245           1                4        40.744553         40.618622   \n",
              "18381          1                1        40.752098         40.746296   \n",
              "22800          1                1        40.645512         40.746887   \n",
              "6009           2                2        40.787540         40.766529   \n",
              "\n",
              "       trip_duration  \n",
              "9245            2501  \n",
              "18381            198  \n",
              "22800           1844  \n",
              "6009             417  "
            ],
            "text/html": [
              "\n",
              "  <div id=\"df-b2f1d8a1-4059-497d-846a-8a52184a6f99\">\n",
              "    <div class=\"colab-df-container\">\n",
              "      <div>\n",
              "<style scoped>\n",
              "    .dataframe tbody tr th:only-of-type {\n",
              "        vertical-align: middle;\n",
              "    }\n",
              "\n",
              "    .dataframe tbody tr th {\n",
              "        vertical-align: top;\n",
              "    }\n",
              "\n",
              "    .dataframe thead th {\n",
              "        text-align: right;\n",
              "    }\n",
              "</style>\n",
              "<table border=\"1\" class=\"dataframe\">\n",
              "  <thead>\n",
              "    <tr style=\"text-align: right;\">\n",
              "      <th></th>\n",
              "      <th>vendor_id</th>\n",
              "      <th>passenger_count</th>\n",
              "      <th>pickup_latitude</th>\n",
              "      <th>dropoff_latitude</th>\n",
              "      <th>trip_duration</th>\n",
              "    </tr>\n",
              "  </thead>\n",
              "  <tbody>\n",
              "    <tr>\n",
              "      <th>9245</th>\n",
              "      <td>1</td>\n",
              "      <td>4</td>\n",
              "      <td>40.744553</td>\n",
              "      <td>40.618622</td>\n",
              "      <td>2501</td>\n",
              "    </tr>\n",
              "    <tr>\n",
              "      <th>18381</th>\n",
              "      <td>1</td>\n",
              "      <td>1</td>\n",
              "      <td>40.752098</td>\n",
              "      <td>40.746296</td>\n",
              "      <td>198</td>\n",
              "    </tr>\n",
              "    <tr>\n",
              "      <th>22800</th>\n",
              "      <td>1</td>\n",
              "      <td>1</td>\n",
              "      <td>40.645512</td>\n",
              "      <td>40.746887</td>\n",
              "      <td>1844</td>\n",
              "    </tr>\n",
              "    <tr>\n",
              "      <th>6009</th>\n",
              "      <td>2</td>\n",
              "      <td>2</td>\n",
              "      <td>40.787540</td>\n",
              "      <td>40.766529</td>\n",
              "      <td>417</td>\n",
              "    </tr>\n",
              "  </tbody>\n",
              "</table>\n",
              "</div>\n",
              "      <button class=\"colab-df-convert\" onclick=\"convertToInteractive('df-b2f1d8a1-4059-497d-846a-8a52184a6f99')\"\n",
              "              title=\"Convert this dataframe to an interactive table.\"\n",
              "              style=\"display:none;\">\n",
              "        \n",
              "  <svg xmlns=\"http://www.w3.org/2000/svg\" height=\"24px\"viewBox=\"0 0 24 24\"\n",
              "       width=\"24px\">\n",
              "    <path d=\"M0 0h24v24H0V0z\" fill=\"none\"/>\n",
              "    <path d=\"M18.56 5.44l.94 2.06.94-2.06 2.06-.94-2.06-.94-.94-2.06-.94 2.06-2.06.94zm-11 1L8.5 8.5l.94-2.06 2.06-.94-2.06-.94L8.5 2.5l-.94 2.06-2.06.94zm10 10l.94 2.06.94-2.06 2.06-.94-2.06-.94-.94-2.06-.94 2.06-2.06.94z\"/><path d=\"M17.41 7.96l-1.37-1.37c-.4-.4-.92-.59-1.43-.59-.52 0-1.04.2-1.43.59L10.3 9.45l-7.72 7.72c-.78.78-.78 2.05 0 2.83L4 21.41c.39.39.9.59 1.41.59.51 0 1.02-.2 1.41-.59l7.78-7.78 2.81-2.81c.8-.78.8-2.07 0-2.86zM5.41 20L4 18.59l7.72-7.72 1.47 1.35L5.41 20z\"/>\n",
              "  </svg>\n",
              "      </button>\n",
              "      \n",
              "  <style>\n",
              "    .colab-df-container {\n",
              "      display:flex;\n",
              "      flex-wrap:wrap;\n",
              "      gap: 12px;\n",
              "    }\n",
              "\n",
              "    .colab-df-convert {\n",
              "      background-color: #E8F0FE;\n",
              "      border: none;\n",
              "      border-radius: 50%;\n",
              "      cursor: pointer;\n",
              "      display: none;\n",
              "      fill: #1967D2;\n",
              "      height: 32px;\n",
              "      padding: 0 0 0 0;\n",
              "      width: 32px;\n",
              "    }\n",
              "\n",
              "    .colab-df-convert:hover {\n",
              "      background-color: #E2EBFA;\n",
              "      box-shadow: 0px 1px 2px rgba(60, 64, 67, 0.3), 0px 1px 3px 1px rgba(60, 64, 67, 0.15);\n",
              "      fill: #174EA6;\n",
              "    }\n",
              "\n",
              "    [theme=dark] .colab-df-convert {\n",
              "      background-color: #3B4455;\n",
              "      fill: #D2E3FC;\n",
              "    }\n",
              "\n",
              "    [theme=dark] .colab-df-convert:hover {\n",
              "      background-color: #434B5C;\n",
              "      box-shadow: 0px 1px 3px 1px rgba(0, 0, 0, 0.15);\n",
              "      filter: drop-shadow(0px 1px 2px rgba(0, 0, 0, 0.3));\n",
              "      fill: #FFFFFF;\n",
              "    }\n",
              "  </style>\n",
              "\n",
              "      <script>\n",
              "        const buttonEl =\n",
              "          document.querySelector('#df-b2f1d8a1-4059-497d-846a-8a52184a6f99 button.colab-df-convert');\n",
              "        buttonEl.style.display =\n",
              "          google.colab.kernel.accessAllowed ? 'block' : 'none';\n",
              "\n",
              "        async function convertToInteractive(key) {\n",
              "          const element = document.querySelector('#df-b2f1d8a1-4059-497d-846a-8a52184a6f99');\n",
              "          const dataTable =\n",
              "            await google.colab.kernel.invokeFunction('convertToInteractive',\n",
              "                                                     [key], {});\n",
              "          if (!dataTable) return;\n",
              "\n",
              "          const docLinkHtml = 'Like what you see? Visit the ' +\n",
              "            '<a target=\"_blank\" href=https://colab.research.google.com/notebooks/data_table.ipynb>data table notebook</a>'\n",
              "            + ' to learn more about interactive tables.';\n",
              "          element.innerHTML = '';\n",
              "          dataTable['output_type'] = 'display_data';\n",
              "          await google.colab.output.renderOutput(dataTable, element);\n",
              "          const docLink = document.createElement('div');\n",
              "          docLink.innerHTML = docLinkHtml;\n",
              "          element.appendChild(docLink);\n",
              "        }\n",
              "      </script>\n",
              "    </div>\n",
              "  </div>\n",
              "  "
            ]
          },
          "metadata": {},
          "execution_count": 64
        }
      ]
    },
    {
      "cell_type": "code",
      "source": [
        "len(X_train.columns)"
      ],
      "metadata": {
        "trusted": true,
        "colab": {
          "base_uri": "https://localhost:8080/"
        },
        "id": "SP2jWHDddzbw",
        "outputId": "32b2dfaf-2249-4d5e-af44-8bef71ca5d42"
      },
      "execution_count": 65,
      "outputs": [
        {
          "output_type": "execute_result",
          "data": {
            "text/plain": [
              "5"
            ]
          },
          "metadata": {},
          "execution_count": 65
        }
      ]
    },
    {
      "cell_type": "code",
      "source": [
        "import tensorflow as tf\n",
        "import matplotlib.pyplot as plt\n",
        "from tensorflow import keras"
      ],
      "metadata": {
        "trusted": true,
        "id": "tlMiF1bCdzbx"
      },
      "execution_count": 66,
      "outputs": []
    },
    {
      "cell_type": "code",
      "source": [
        "model = keras.Sequential([\n",
        "    keras.layers.Dense(5, input_shape=(5,), activation='relu'),\n",
        "    keras.layers.Dense(20,  activation='relu'),\n",
        "    keras.layers.Dense(15,  activation='relu'),\n",
        "    keras.layers.Dense(3,  activation='sigmoid'),\n",
        "])\n",
        "\n",
        "model.compile(optimizer='adam',\n",
        "              loss='binary_crossentropy',\n",
        "              metrics=['accuracy']\n",
        ")\n",
        "\n",
        "model.fit(X_train,y_train, epochs=100)"
      ],
      "metadata": {
        "trusted": true,
        "colab": {
          "base_uri": "https://localhost:8080/"
        },
        "id": "GC5oU5YIdzbx",
        "outputId": "45711bd0-c278-4fe1-864f-e0c493428737"
      },
      "execution_count": 67,
      "outputs": [
        {
          "output_type": "stream",
          "name": "stdout",
          "text": [
            "Epoch 1/100\n",
            "985/985 [==============================] - 3s 2ms/step - loss: -4312351.0000 - accuracy: 0.0038\n",
            "Epoch 2/100\n",
            "985/985 [==============================] - 2s 2ms/step - loss: -37679368.0000 - accuracy: 0.2833\n",
            "Epoch 3/100\n",
            "985/985 [==============================] - 2s 2ms/step - loss: -143355440.0000 - accuracy: 0.3041\n",
            "Epoch 4/100\n",
            "985/985 [==============================] - 2s 2ms/step - loss: -406237120.0000 - accuracy: 0.3041\n",
            "Epoch 5/100\n",
            "985/985 [==============================] - 2s 2ms/step - loss: -872130112.0000 - accuracy: 0.3041\n",
            "Epoch 6/100\n",
            "985/985 [==============================] - 2s 2ms/step - loss: -1703653120.0000 - accuracy: 0.3041\n",
            "Epoch 7/100\n",
            "985/985 [==============================] - 2s 2ms/step - loss: -2969939712.0000 - accuracy: 0.3041\n",
            "Epoch 8/100\n",
            "985/985 [==============================] - 2s 2ms/step - loss: -4618375168.0000 - accuracy: 0.3041\n",
            "Epoch 9/100\n",
            "985/985 [==============================] - 2s 2ms/step - loss: -6708564992.0000 - accuracy: 0.3041\n",
            "Epoch 10/100\n",
            "985/985 [==============================] - 2s 2ms/step - loss: -9760916480.0000 - accuracy: 0.3041\n",
            "Epoch 11/100\n",
            "985/985 [==============================] - 2s 2ms/step - loss: -13602744320.0000 - accuracy: 0.3041\n",
            "Epoch 12/100\n",
            "985/985 [==============================] - 2s 2ms/step - loss: -17893216256.0000 - accuracy: 0.3041\n",
            "Epoch 13/100\n",
            "985/985 [==============================] - 2s 2ms/step - loss: -23419217920.0000 - accuracy: 0.3041\n",
            "Epoch 14/100\n",
            "985/985 [==============================] - 2s 2ms/step - loss: -30708449280.0000 - accuracy: 0.3041\n",
            "Epoch 15/100\n",
            "985/985 [==============================] - 2s 2ms/step - loss: -39406874624.0000 - accuracy: 0.3041\n",
            "Epoch 16/100\n",
            "985/985 [==============================] - 2s 2ms/step - loss: -49193664512.0000 - accuracy: 0.3041\n",
            "Epoch 17/100\n",
            "985/985 [==============================] - 2s 2ms/step - loss: -60538253312.0000 - accuracy: 0.3041\n",
            "Epoch 18/100\n",
            "985/985 [==============================] - 2s 2ms/step - loss: -73485565952.0000 - accuracy: 0.3041\n",
            "Epoch 19/100\n",
            "985/985 [==============================] - 2s 2ms/step - loss: -87579557888.0000 - accuracy: 0.3041\n",
            "Epoch 20/100\n",
            "985/985 [==============================] - 2s 2ms/step - loss: -104315019264.0000 - accuracy: 0.3041\n",
            "Epoch 21/100\n",
            "985/985 [==============================] - 2s 2ms/step - loss: -123302617088.0000 - accuracy: 0.3041\n",
            "Epoch 22/100\n",
            "985/985 [==============================] - 2s 2ms/step - loss: -143937765376.0000 - accuracy: 0.3041\n",
            "Epoch 23/100\n",
            "985/985 [==============================] - 2s 2ms/step - loss: -169033596928.0000 - accuracy: 0.3041\n",
            "Epoch 24/100\n",
            "985/985 [==============================] - 2s 2ms/step - loss: -196705206272.0000 - accuracy: 0.3041\n",
            "Epoch 25/100\n",
            "985/985 [==============================] - 2s 2ms/step - loss: -225025261568.0000 - accuracy: 0.3041\n",
            "Epoch 26/100\n",
            "985/985 [==============================] - 4s 4ms/step - loss: -258979921920.0000 - accuracy: 0.3041\n",
            "Epoch 27/100\n",
            "985/985 [==============================] - 2s 2ms/step - loss: -297598091264.0000 - accuracy: 0.3041\n",
            "Epoch 28/100\n",
            "985/985 [==============================] - 2s 2ms/step - loss: -339642155008.0000 - accuracy: 0.3041\n",
            "Epoch 29/100\n",
            "985/985 [==============================] - 2s 2ms/step - loss: -383797002240.0000 - accuracy: 0.3041\n",
            "Epoch 30/100\n",
            "985/985 [==============================] - 2s 2ms/step - loss: -432497328128.0000 - accuracy: 0.3041\n",
            "Epoch 31/100\n",
            "985/985 [==============================] - 2s 2ms/step - loss: -485605015552.0000 - accuracy: 0.3041\n",
            "Epoch 32/100\n",
            "985/985 [==============================] - 2s 2ms/step - loss: -543624495104.0000 - accuracy: 0.3041\n",
            "Epoch 33/100\n",
            "985/985 [==============================] - 3s 3ms/step - loss: -603430191104.0000 - accuracy: 0.3041\n",
            "Epoch 34/100\n",
            "985/985 [==============================] - 3s 3ms/step - loss: -668413132800.0000 - accuracy: 0.3041\n",
            "Epoch 35/100\n",
            "985/985 [==============================] - 2s 2ms/step - loss: -739311878144.0000 - accuracy: 0.3041\n",
            "Epoch 36/100\n",
            "985/985 [==============================] - 2s 2ms/step - loss: -819311607808.0000 - accuracy: 0.3041\n",
            "Epoch 37/100\n",
            "985/985 [==============================] - 2s 2ms/step - loss: -903127629824.0000 - accuracy: 0.3041\n",
            "Epoch 38/100\n",
            "985/985 [==============================] - 2s 2ms/step - loss: -991746654208.0000 - accuracy: 0.3041\n",
            "Epoch 39/100\n",
            "985/985 [==============================] - 2s 2ms/step - loss: -1084790603776.0000 - accuracy: 0.3041\n",
            "Epoch 40/100\n",
            "985/985 [==============================] - 2s 2ms/step - loss: -1184448249856.0000 - accuracy: 0.3041\n",
            "Epoch 41/100\n",
            "985/985 [==============================] - 2s 2ms/step - loss: -1296200368128.0000 - accuracy: 0.3041\n",
            "Epoch 42/100\n",
            "985/985 [==============================] - 2s 2ms/step - loss: -1415595294720.0000 - accuracy: 0.3041\n",
            "Epoch 43/100\n",
            "985/985 [==============================] - 2s 2ms/step - loss: -1543927758848.0000 - accuracy: 0.3041\n",
            "Epoch 44/100\n",
            "985/985 [==============================] - 2s 2ms/step - loss: -1682374787072.0000 - accuracy: 0.3041\n",
            "Epoch 45/100\n",
            "985/985 [==============================] - 2s 2ms/step - loss: -1825576189952.0000 - accuracy: 0.3041\n",
            "Epoch 46/100\n",
            "985/985 [==============================] - 2s 2ms/step - loss: -1968180559872.0000 - accuracy: 0.3041\n",
            "Epoch 47/100\n",
            "985/985 [==============================] - 2s 2ms/step - loss: -2119872937984.0000 - accuracy: 0.3041\n",
            "Epoch 48/100\n",
            "985/985 [==============================] - 2s 2ms/step - loss: -2292297760768.0000 - accuracy: 0.3041\n",
            "Epoch 49/100\n",
            "985/985 [==============================] - 2s 2ms/step - loss: -2465601159168.0000 - accuracy: 0.3041\n",
            "Epoch 50/100\n",
            "985/985 [==============================] - 2s 2ms/step - loss: -2652289892352.0000 - accuracy: 0.3041\n",
            "Epoch 51/100\n",
            "985/985 [==============================] - 2s 2ms/step - loss: -2853951242240.0000 - accuracy: 0.3041\n",
            "Epoch 52/100\n",
            "985/985 [==============================] - 2s 2ms/step - loss: -3069189816320.0000 - accuracy: 0.3041\n",
            "Epoch 53/100\n",
            "985/985 [==============================] - 2s 2ms/step - loss: -3300022550528.0000 - accuracy: 0.3041\n",
            "Epoch 54/100\n",
            "985/985 [==============================] - 2s 2ms/step - loss: -3523813048320.0000 - accuracy: 0.3041\n",
            "Epoch 55/100\n",
            "985/985 [==============================] - 2s 2ms/step - loss: -3759139979264.0000 - accuracy: 0.3041\n",
            "Epoch 56/100\n",
            "985/985 [==============================] - 2s 2ms/step - loss: -4008863334400.0000 - accuracy: 0.3041\n",
            "Epoch 57/100\n",
            "985/985 [==============================] - 2s 2ms/step - loss: -4271801892864.0000 - accuracy: 0.3041\n",
            "Epoch 58/100\n",
            "985/985 [==============================] - 2s 2ms/step - loss: -4551356710912.0000 - accuracy: 0.3041\n",
            "Epoch 59/100\n",
            "985/985 [==============================] - 2s 2ms/step - loss: -4852571176960.0000 - accuracy: 0.3041\n",
            "Epoch 60/100\n",
            "985/985 [==============================] - 2s 2ms/step - loss: -5150565990400.0000 - accuracy: 0.3041\n",
            "Epoch 61/100\n",
            "985/985 [==============================] - 2s 2ms/step - loss: -5474377269248.0000 - accuracy: 0.3041\n",
            "Epoch 62/100\n",
            "985/985 [==============================] - 2s 2ms/step - loss: -5803838799872.0000 - accuracy: 0.3041\n",
            "Epoch 63/100\n",
            "985/985 [==============================] - 2s 2ms/step - loss: -6166572171264.0000 - accuracy: 0.3041\n",
            "Epoch 64/100\n",
            "985/985 [==============================] - 2s 2ms/step - loss: -6547151781888.0000 - accuracy: 0.3041\n",
            "Epoch 65/100\n",
            "985/985 [==============================] - 2s 2ms/step - loss: -6935063035904.0000 - accuracy: 0.3041\n",
            "Epoch 66/100\n",
            "985/985 [==============================] - 2s 2ms/step - loss: -7332996579328.0000 - accuracy: 0.3041\n",
            "Epoch 67/100\n",
            "985/985 [==============================] - 2s 2ms/step - loss: -7756419432448.0000 - accuracy: 0.3041\n",
            "Epoch 68/100\n",
            "985/985 [==============================] - 2s 2ms/step - loss: -8190980784128.0000 - accuracy: 0.3041\n",
            "Epoch 69/100\n",
            "985/985 [==============================] - 2s 2ms/step - loss: -8641052672000.0000 - accuracy: 0.3041\n",
            "Epoch 70/100\n",
            "985/985 [==============================] - 2s 2ms/step - loss: -9094003949568.0000 - accuracy: 0.3041\n",
            "Epoch 71/100\n",
            "985/985 [==============================] - 2s 2ms/step - loss: -9570024947712.0000 - accuracy: 0.3041\n",
            "Epoch 72/100\n",
            "985/985 [==============================] - 2s 2ms/step - loss: -10091448238080.0000 - accuracy: 0.3041\n",
            "Epoch 73/100\n",
            "985/985 [==============================] - 2s 2ms/step - loss: -10647421059072.0000 - accuracy: 0.3041\n",
            "Epoch 74/100\n",
            "985/985 [==============================] - 2s 2ms/step - loss: -11232717307904.0000 - accuracy: 0.3041\n",
            "Epoch 75/100\n",
            "985/985 [==============================] - 2s 2ms/step - loss: -11779019112448.0000 - accuracy: 0.3041\n",
            "Epoch 76/100\n",
            "985/985 [==============================] - 2s 2ms/step - loss: -12351617105920.0000 - accuracy: 0.3041\n",
            "Epoch 77/100\n",
            "985/985 [==============================] - 2s 2ms/step - loss: -12985056624640.0000 - accuracy: 0.3041\n",
            "Epoch 78/100\n",
            "985/985 [==============================] - 2s 2ms/step - loss: -13607783890944.0000 - accuracy: 0.3041\n",
            "Epoch 79/100\n",
            "985/985 [==============================] - 2s 2ms/step - loss: -14286855340032.0000 - accuracy: 0.3041\n",
            "Epoch 80/100\n",
            "985/985 [==============================] - 2s 3ms/step - loss: -15001795428352.0000 - accuracy: 0.3041\n",
            "Epoch 81/100\n",
            "985/985 [==============================] - 2s 2ms/step - loss: -15712275922944.0000 - accuracy: 0.3041\n",
            "Epoch 82/100\n",
            "985/985 [==============================] - 2s 2ms/step - loss: -16400144924672.0000 - accuracy: 0.3041\n",
            "Epoch 83/100\n",
            "985/985 [==============================] - 2s 2ms/step - loss: -17163951800320.0000 - accuracy: 0.3041\n",
            "Epoch 84/100\n",
            "985/985 [==============================] - 4s 4ms/step - loss: -17948802547712.0000 - accuracy: 0.3041\n",
            "Epoch 85/100\n",
            "985/985 [==============================] - 2s 2ms/step - loss: -18774935732224.0000 - accuracy: 0.3041\n",
            "Epoch 86/100\n",
            "985/985 [==============================] - 2s 2ms/step - loss: -19634891784192.0000 - accuracy: 0.3041\n",
            "Epoch 87/100\n",
            "985/985 [==============================] - 2s 2ms/step - loss: -20517222350848.0000 - accuracy: 0.3041\n",
            "Epoch 88/100\n",
            "985/985 [==============================] - 2s 2ms/step - loss: -21402157580288.0000 - accuracy: 0.3041\n",
            "Epoch 89/100\n",
            "985/985 [==============================] - 2s 2ms/step - loss: -22250262626304.0000 - accuracy: 0.3041\n",
            "Epoch 90/100\n",
            "985/985 [==============================] - 2s 2ms/step - loss: -23173294718976.0000 - accuracy: 0.3041\n",
            "Epoch 91/100\n",
            "985/985 [==============================] - 2s 2ms/step - loss: -24132433477632.0000 - accuracy: 0.3041\n",
            "Epoch 92/100\n",
            "985/985 [==============================] - 2s 2ms/step - loss: -25173969338368.0000 - accuracy: 0.3041\n",
            "Epoch 93/100\n",
            "985/985 [==============================] - 2s 2ms/step - loss: -26244238278656.0000 - accuracy: 0.3041\n",
            "Epoch 94/100\n",
            "985/985 [==============================] - 2s 2ms/step - loss: -27343452110848.0000 - accuracy: 0.3041\n",
            "Epoch 95/100\n",
            "985/985 [==============================] - 2s 2ms/step - loss: -28460676284416.0000 - accuracy: 0.3041\n",
            "Epoch 96/100\n",
            "985/985 [==============================] - 2s 2ms/step - loss: -29603538141184.0000 - accuracy: 0.3041\n",
            "Epoch 97/100\n",
            "985/985 [==============================] - 2s 2ms/step - loss: -30747905753088.0000 - accuracy: 0.3041\n",
            "Epoch 98/100\n",
            "985/985 [==============================] - 2s 2ms/step - loss: -31964721577984.0000 - accuracy: 0.3041\n",
            "Epoch 99/100\n",
            "985/985 [==============================] - 2s 2ms/step - loss: -33210530529280.0000 - accuracy: 0.3041\n",
            "Epoch 100/100\n",
            "985/985 [==============================] - 2s 2ms/step - loss: -34439237206016.0000 - accuracy: 0.3041\n"
          ]
        },
        {
          "output_type": "execute_result",
          "data": {
            "text/plain": [
              "<keras.callbacks.History at 0x7f3dfd11bb50>"
            ]
          },
          "metadata": {},
          "execution_count": 67
        }
      ]
    },
    {
      "cell_type": "code",
      "source": [
        "model.evaluate(X_test,y_test)"
      ],
      "metadata": {
        "trusted": true,
        "colab": {
          "base_uri": "https://localhost:8080/"
        },
        "id": "tF2IMF5Ndzby",
        "outputId": "f6bf4a76-77b7-4358-bfda-1d2110cc4f34"
      },
      "execution_count": 68,
      "outputs": [
        {
          "output_type": "stream",
          "name": "stdout",
          "text": [
            "247/247 [==============================] - 1s 2ms/step - loss: -34567368998912.0000 - accuracy: 0.3064\n"
          ]
        },
        {
          "output_type": "execute_result",
          "data": {
            "text/plain": [
              "[-34567368998912.0, 0.3064229488372803]"
            ]
          },
          "metadata": {},
          "execution_count": 68
        }
      ]
    },
    {
      "cell_type": "markdown",
      "source": [
        "# Se obtiene un 30% de predicción con el cual no se puede llegar a un plan de acción o toma de decisiones certero."
      ],
      "metadata": {
        "id": "oADzuGTRdzbz"
      }
    },
    {
      "cell_type": "code",
      "source": [
        "model = keras.Sequential([\n",
        "    keras.layers.Dense(5, input_shape=(5,), activation='relu'),\n",
        "    keras.layers.Dropout(0.3),\n",
        "    keras.layers.Dense(20,  activation='relu'),\n",
        "    keras.layers.Dropout(0.7),\n",
        "    keras.layers.Dense(15,  activation='relu'),\n",
        "    keras.layers.Dropout(0.1),\n",
        "    keras.layers.Dense(3,  activation='sigmoid'),\n",
        "])\n",
        "\n",
        "model.compile(optimizer='Adagrad',\n",
        "              loss='binary_crossentropy',\n",
        "              metrics=['accuracy']\n",
        ")\n",
        "\n",
        "model.fit(X_train,y_train, epochs=10)"
      ],
      "metadata": {
        "trusted": true,
        "colab": {
          "base_uri": "https://localhost:8080/"
        },
        "id": "1EAMDJNsdzb0",
        "outputId": "794a5e6c-5dc9-41db-cd20-8509077e709d"
      },
      "execution_count": 69,
      "outputs": [
        {
          "output_type": "stream",
          "name": "stdout",
          "text": [
            "Epoch 1/10\n",
            "985/985 [==============================] - 2s 2ms/step - loss: 156.1379 - accuracy: 0.1966\n",
            "Epoch 2/10\n",
            "985/985 [==============================] - 2s 2ms/step - loss: 92.0384 - accuracy: 0.1805\n",
            "Epoch 3/10\n",
            "985/985 [==============================] - 2s 2ms/step - loss: 20.7179 - accuracy: 0.1805\n",
            "Epoch 4/10\n",
            "985/985 [==============================] - 2s 2ms/step - loss: 5.5498 - accuracy: 0.1834\n",
            "Epoch 5/10\n",
            "985/985 [==============================] - 2s 2ms/step - loss: -39.5700 - accuracy: 0.1894\n",
            "Epoch 6/10\n",
            "985/985 [==============================] - 2s 2ms/step - loss: -66.9904 - accuracy: 0.1988\n",
            "Epoch 7/10\n",
            "985/985 [==============================] - 2s 2ms/step - loss: -152.6472 - accuracy: 0.2054\n",
            "Epoch 8/10\n",
            "985/985 [==============================] - 2s 2ms/step - loss: -101.5485 - accuracy: 0.2083\n",
            "Epoch 9/10\n",
            "985/985 [==============================] - 2s 2ms/step - loss: -161.3553 - accuracy: 0.2101\n",
            "Epoch 10/10\n",
            "985/985 [==============================] - 2s 2ms/step - loss: -181.7899 - accuracy: 0.2103\n"
          ]
        },
        {
          "output_type": "execute_result",
          "data": {
            "text/plain": [
              "<keras.callbacks.History at 0x7f3dfb84c850>"
            ]
          },
          "metadata": {},
          "execution_count": 69
        }
      ]
    },
    {
      "cell_type": "code",
      "source": [
        "model.evaluate(X_test,y_test)"
      ],
      "metadata": {
        "trusted": true,
        "colab": {
          "base_uri": "https://localhost:8080/"
        },
        "id": "FpboyCOxdzb1",
        "outputId": "84b78025-3426-4ac4-ad82-3e48908984a4"
      },
      "execution_count": 71,
      "outputs": [
        {
          "output_type": "stream",
          "name": "stdout",
          "text": [
            "247/247 [==============================] - 0s 2ms/step - loss: -139.7941 - accuracy: 0.3078\n"
          ]
        },
        {
          "output_type": "execute_result",
          "data": {
            "text/plain": [
              "[-139.7941436767578, 0.3078192472457886]"
            ]
          },
          "metadata": {},
          "execution_count": 71
        }
      ]
    },
    {
      "cell_type": "markdown",
      "source": [
        "# 30% / 69%"
      ],
      "metadata": {
        "id": "HKAf4OHndzb1"
      }
    }
  ]
}